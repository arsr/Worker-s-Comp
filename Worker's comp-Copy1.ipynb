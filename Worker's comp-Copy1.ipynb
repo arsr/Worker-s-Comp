{
 "cells": [
  {
   "cell_type": "markdown",
   "metadata": {},
   "source": [
    "# Problem statment : Build a classifer that can predict if claims will end in litigation\n",
    "\n",
    "#### 1. Load data\n",
    "#### 2. Data Exploration\n",
    "#### 3. Data cleaning\n"
   ]
  },
  {
   "cell_type": "code",
   "execution_count": 1,
   "metadata": {},
   "outputs": [],
   "source": [
    "import pandas as pd\n",
    "import matplotlib.pyplot as plot\n",
    "import numpy as np\n",
    "from sklearn.model_selection import train_test_split, GridSearchCV\n",
    "from sklearn.neural_network import MLPClassifier  \n",
    "from sklearn.ensemble import GradientBoostingClassifier\n",
    "from sklearn.metrics import accuracy_score, f1_score, precision_score, recall_score, classification_report, confusion_matrix\n",
    "from sklearn.ensemble import RandomForestClassifier\n",
    "from sklearn.tree import DecisionTreeClassifier\n",
    "from sklearn import linear_model\n",
    "from sklearn.tree import DecisionTreeClassifier\n",
    "import warnings\n",
    "warnings.filterwarnings('ignore')\n",
    "%matplotlib inline"
   ]
  },
  {
   "cell_type": "code",
   "execution_count": 280,
   "metadata": {},
   "outputs": [
    {
     "data": {
      "text/plain": [
       "(3383252, 14)"
      ]
     },
     "execution_count": 280,
     "metadata": {},
     "output_type": "execute_result"
    }
   ],
   "source": [
    "#Read dataset and load it into a dataframe\n",
    "data_1 = pd.read_csv(\"Data\\Assembled_Workers__Compensation_Claims___Beginning_2000.csv\")\n",
    "data.shape"
   ]
  },
  {
   "cell_type": "code",
   "execution_count": 3,
   "metadata": {},
   "outputs": [
    {
     "data": {
      "text/plain": [
       "Index(['Claim Identifier', 'Claim Type', 'District Name',\n",
       "       'Average Weekly Wage', 'Current Claim Status', 'Claim Injury Type',\n",
       "       'Age at Injury', 'Assembly Date', 'Accident Date', 'ANCR Date',\n",
       "       'Controverted Date', 'Section 32 Date', 'PPD Scheduled Loss Date',\n",
       "       'PPD Non-Scheduled Loss Date', 'PTD Date', 'First Appeal Date',\n",
       "       'WCIO Part Of Body Code', 'WCIO Part Of Body Description',\n",
       "       'WCIO Nature of Injury Code', 'WCIO Nature of Injury Description',\n",
       "       'WCIO Cause of Injury Code', 'WCIO Cause of Injury Description',\n",
       "       'OIICS Part Of Body Code', 'OIICS Part Of Body Description',\n",
       "       'OIICS Nature of Injury Code', 'OIICS Nature of Injury Description',\n",
       "       'OIICS Injury Source Code', 'OIICS Injury Source Description',\n",
       "       'OIICS Event Exposure Code', 'OIICS Event Exposure Description',\n",
       "       'OIICS Secondary Source Code', 'OIICS Secondary Source Description',\n",
       "       'Alternative Dispute Resolution', 'Gender', 'Birth Year', 'Zip Code',\n",
       "       'Medical Fee Region', 'C-2 Date', 'C-3 Date', 'First Hearing Date',\n",
       "       'Highest Process', 'Hearing Count', 'Closed Count',\n",
       "       'Attorney/Representative', 'Carrier Name', 'Carrier Type',\n",
       "       'IME-4 Count', 'Interval Assembled to ANCR', 'Accident',\n",
       "       'Occupational Disease', 'County of Injury'],\n",
       "      dtype='object')"
      ]
     },
     "execution_count": 3,
     "metadata": {},
     "output_type": "execute_result"
    }
   ],
   "source": [
    "#Print all the attributes, this helps us to get a feel for what unimportnat attributes are ex: claim identifier is just ID\n",
    "data.columns"
   ]
  },
  {
   "cell_type": "markdown",
   "metadata": {},
   "source": [
    "## Explore data before getting data quality report"
   ]
  },
  {
   "cell_type": "markdown",
   "metadata": {},
   "source": [
    "### See what percent of data is missing  "
   ]
  },
  {
   "cell_type": "code",
   "execution_count": 4,
   "metadata": {},
   "outputs": [],
   "source": [
    "perecent_missing = (data.isnull().sum()/data.shape[0])*100\n",
    "perecent_missing = perecent_missing.reset_index()\n",
    "#perecent_missing[perecent_missing>0].plot(kind='bar')\n",
    "\n",
    "#precent_missing.plot(kind = 'bar')\n",
    "#we see columns with missing values are mostly date, except nature of body rest can be dropped because it is mostly date an event\n",
    "# that might mostly have no bearing on hiring an attorney"
   ]
  },
  {
   "cell_type": "code",
   "execution_count": 292,
   "metadata": {},
   "outputs": [
    {
     "data": {
      "text/plain": [
       "Claim Identifier                        0.000000\n",
       "Claim Type                              0.000000\n",
       "District Name                           0.000000\n",
       "Average Weekly Wage                     0.000000\n",
       "Current Claim Status                    0.000000\n",
       "Claim Injury Type                       0.000000\n",
       "Age at Injury                           0.000000\n",
       "Assembly Date                           0.000000\n",
       "Accident Date                           0.485953\n",
       "ANCR Date                              40.907121\n",
       "Controverted Date                      91.559009\n",
       "Section 32 Date                        95.988948\n",
       "PPD Scheduled Loss Date                88.102512\n",
       "PPD Non-Scheduled Loss Date            98.099521\n",
       "PTD Date                              100.590438\n",
       "First Appeal Date                      96.471324\n",
       "WCIO Part Of Body Code                  0.000000\n",
       "WCIO Part Of Body Description           0.000000\n",
       "WCIO Nature of Injury Code              0.000000\n",
       "WCIO Nature of Injury Description       0.000000\n",
       "WCIO Cause of Injury Code               0.000000\n",
       "WCIO Cause of Injury Description        0.000000\n",
       "OIICS Part Of Body Code                67.021670\n",
       "OIICS Part Of Body Description         67.021670\n",
       "OIICS Nature of Injury Code            67.021670\n",
       "OIICS Nature of Injury Description     67.021670\n",
       "OIICS Injury Source Code               67.022025\n",
       "OIICS Injury Source Description        67.022025\n",
       "OIICS Event Exposure Code              67.021936\n",
       "OIICS Event Exposure Description       67.021936\n",
       "OIICS Secondary Source Code            67.023000\n",
       "OIICS Secondary Source Description     67.023000\n",
       "Alternative Dispute Resolution          0.000000\n",
       "Gender                                  0.000000\n",
       "Birth Year                              4.990672\n",
       "Zip Code                                0.000000\n",
       "Medical Fee Region                      0.000000\n",
       "C-2 Date                               50.978762\n",
       "C-3 Date                               65.858559\n",
       "First Hearing Date                     62.790002\n",
       "Highest Process                        18.849497\n",
       "Hearing Count                           0.000000\n",
       "Closed Count                            0.000000\n",
       "Attorney/Representative                 0.000000\n",
       "Carrier Name                            0.000000\n",
       "Carrier Type                            0.000000\n",
       "IME-4 Count                            72.922945\n",
       "Interval Assembled to ANCR             40.907121\n",
       "Accident                                0.000000\n",
       "Occupational Disease                    0.000000\n",
       "County of Injury                        0.000000\n",
       "dtype: float64"
      ]
     },
     "execution_count": 292,
     "metadata": {},
     "output_type": "execute_result"
    }
   ],
   "source": [
    "(data_1.isnull().sum()/data.shape[0])*100"
   ]
  },
  {
   "cell_type": "code",
   "execution_count": 5,
   "metadata": {},
   "outputs": [
    {
     "data": {
      "text/plain": [
       "index    20\n",
       "0        20\n",
       "dtype: int64"
      ]
     },
     "execution_count": 5,
     "metadata": {},
     "output_type": "execute_result"
    }
   ],
   "source": [
    "perecent_missing = perecent_missing[perecent_missing[0] >50.0]\n",
    "perecent_missing.count()"
   ]
  },
  {
   "cell_type": "code",
   "execution_count": 6,
   "metadata": {},
   "outputs": [
    {
     "data": {
      "text/plain": [
       "<matplotlib.axes._subplots.AxesSubplot at 0x277ccb39be0>"
      ]
     },
     "execution_count": 6,
     "metadata": {},
     "output_type": "execute_result"
    },
    {
     "data": {
      "image/png": "[encoded data removed]",
      "text/plain": [
       "<matplotlib.figure.Figure at 0x277c6b41908>"
      ]
     },
     "metadata": {},
     "output_type": "display_data"
    }
   ],
   "source": [
    "perecent_missing[perecent_missing > 50].plot(kind = 'bar')"
   ]
  },
  {
   "cell_type": "code",
   "execution_count": 8,
   "metadata": {},
   "outputs": [],
   "source": [
    "#perecent_missing = perecent_missing.reset_index()\n",
    "valid_columns = data.columns[~data.columns.isin(perecent_missing['index'])]"
   ]
  },
  {
   "cell_type": "code",
   "execution_count": 9,
   "metadata": {},
   "outputs": [
    {
     "data": {
      "text/plain": [
       "Index(['Claim Identifier', 'Claim Type', 'District Name',\n",
       "       'Average Weekly Wage', 'Current Claim Status', 'Claim Injury Type',\n",
       "       'Age at Injury', 'Assembly Date', 'Accident Date', 'ANCR Date',\n",
       "       'WCIO Part Of Body Code', 'WCIO Part Of Body Description',\n",
       "       'WCIO Nature of Injury Code', 'WCIO Nature of Injury Description',\n",
       "       'WCIO Cause of Injury Code', 'WCIO Cause of Injury Description',\n",
       "       'Alternative Dispute Resolution', 'Gender', 'Birth Year', 'Zip Code',\n",
       "       'Medical Fee Region', 'Highest Process', 'Hearing Count',\n",
       "       'Closed Count', 'Attorney/Representative', 'Carrier Name',\n",
       "       'Carrier Type', 'Interval Assembled to ANCR', 'Accident',\n",
       "       'Occupational Disease', 'County of Injury'],\n",
       "      dtype='object')"
      ]
     },
     "execution_count": 9,
     "metadata": {},
     "output_type": "execute_result"
    }
   ],
   "source": [
    " valid_columns"
   ]
  },
  {
   "cell_type": "code",
   "execution_count": 10,
   "metadata": {},
   "outputs": [
    {
     "data": {
      "text/html": [
       "<div>\n",
       "<style scoped>\n",
       "    .dataframe tbody tr th:only-of-type {\n",
       "        vertical-align: middle;\n",
       "    }\n",
       "\n",
       "    .dataframe tbody tr th {\n",
       "        vertical-align: top;\n",
       "    }\n",
       "\n",
       "    .dataframe thead th {\n",
       "        text-align: right;\n",
       "    }\n",
       "</style>\n",
       "<table border=\"1\" class=\"dataframe\">\n",
       "  <thead>\n",
       "    <tr style=\"text-align: right;\">\n",
       "      <th></th>\n",
       "      <th>Claim Identifier</th>\n",
       "      <th>Claim Type</th>\n",
       "      <th>District Name</th>\n",
       "      <th>Average Weekly Wage</th>\n",
       "      <th>Current Claim Status</th>\n",
       "      <th>Claim Injury Type</th>\n",
       "      <th>Age at Injury</th>\n",
       "      <th>Assembly Date</th>\n",
       "      <th>Accident Date</th>\n",
       "      <th>ANCR Date</th>\n",
       "      <th>...</th>\n",
       "      <th>Hearing Count</th>\n",
       "      <th>Closed Count</th>\n",
       "      <th>Attorney/Representative</th>\n",
       "      <th>Carrier Name</th>\n",
       "      <th>Carrier Type</th>\n",
       "      <th>IME-4 Count</th>\n",
       "      <th>Interval Assembled to ANCR</th>\n",
       "      <th>Accident</th>\n",
       "      <th>Occupational Disease</th>\n",
       "      <th>County of Injury</th>\n",
       "    </tr>\n",
       "  </thead>\n",
       "  <tbody>\n",
       "    <tr>\n",
       "      <th>0</th>\n",
       "      <td>4037088</td>\n",
       "      <td>Workers Compensation</td>\n",
       "      <td>BUFFALO</td>\n",
       "      <td>610.00</td>\n",
       "      <td>HEARING UNSET</td>\n",
       "      <td>PPD NSL</td>\n",
       "      <td>37</td>\n",
       "      <td>06/30/2015</td>\n",
       "      <td>05/14/2015</td>\n",
       "      <td>10/29/2015</td>\n",
       "      <td>...</td>\n",
       "      <td>11</td>\n",
       "      <td>5</td>\n",
       "      <td>Y</td>\n",
       "      <td>UTICA MUTUAL INSURANCE CO</td>\n",
       "      <td>1A. PRIVATE</td>\n",
       "      <td>9.0</td>\n",
       "      <td>121.0</td>\n",
       "      <td>Y</td>\n",
       "      <td>N</td>\n",
       "      <td>ERIE</td>\n",
       "    </tr>\n",
       "    <tr>\n",
       "      <th>1</th>\n",
       "      <td>4039191</td>\n",
       "      <td>Workers Compensation</td>\n",
       "      <td>ALBANY</td>\n",
       "      <td>215.88</td>\n",
       "      <td>NO FURTHER ACTION</td>\n",
       "      <td>PPD NSL</td>\n",
       "      <td>70</td>\n",
       "      <td>07/10/2015</td>\n",
       "      <td>07/01/2015</td>\n",
       "      <td>11/12/2015</td>\n",
       "      <td>...</td>\n",
       "      <td>6</td>\n",
       "      <td>4</td>\n",
       "      <td>Y</td>\n",
       "      <td>STATE INSURANCE FUND</td>\n",
       "      <td>2A. SIF</td>\n",
       "      <td>8.0</td>\n",
       "      <td>125.0</td>\n",
       "      <td>Y</td>\n",
       "      <td>N</td>\n",
       "      <td>ALBANY</td>\n",
       "    </tr>\n",
       "  </tbody>\n",
       "</table>\n",
       "<p>2 rows × 51 columns</p>\n",
       "</div>"
      ],
      "text/plain": [
       "   Claim Identifier            Claim Type District Name  Average Weekly Wage  \\\n",
       "0           4037088  Workers Compensation       BUFFALO               610.00   \n",
       "1           4039191  Workers Compensation        ALBANY               215.88   \n",
       "\n",
       "  Current Claim Status Claim Injury Type  Age at Injury Assembly Date  \\\n",
       "0        HEARING UNSET           PPD NSL             37    06/30/2015   \n",
       "1    NO FURTHER ACTION           PPD NSL             70    07/10/2015   \n",
       "\n",
       "  Accident Date   ANCR Date       ...        Hearing Count Closed Count  \\\n",
       "0    05/14/2015  10/29/2015       ...                   11            5   \n",
       "1    07/01/2015  11/12/2015       ...                    6            4   \n",
       "\n",
       "  Attorney/Representative               Carrier Name Carrier Type IME-4 Count  \\\n",
       "0                       Y  UTICA MUTUAL INSURANCE CO  1A. PRIVATE         9.0   \n",
       "1                       Y       STATE INSURANCE FUND      2A. SIF         8.0   \n",
       "\n",
       "  Interval Assembled to ANCR Accident Occupational Disease County of Injury  \n",
       "0                      121.0        Y                    N             ERIE  \n",
       "1                      125.0        Y                    N           ALBANY  \n",
       "\n",
       "[2 rows x 51 columns]"
      ]
     },
     "execution_count": 10,
     "metadata": {},
     "output_type": "execute_result"
    }
   ],
   "source": [
    "data.head(2)"
   ]
  },
  {
   "cell_type": "markdown",
   "metadata": {},
   "source": [
    "### invalid columns "
   ]
  },
  {
   "cell_type": "code",
   "execution_count": 38,
   "metadata": {},
   "outputs": [],
   "source": [
    "invalid_list = ['Claim Type','Claim Identifier','Hearing Count','Highest Process','Current Claim Status','Assembly Date','ANCR Date','Alternative Dispute Resolution','Closed Count']"
   ]
  },
  {
   "cell_type": "code",
   "execution_count": 39,
   "metadata": {},
   "outputs": [],
   "source": [
    "valid_columns =valid_columns[~(valid_columns.isin(invalid_list))]"
   ]
  },
  {
   "cell_type": "code",
   "execution_count": 269,
   "metadata": {},
   "outputs": [
    {
     "data": {
      "text/plain": [
       "NON-COMP        1129837\n",
       "TEMPORARY        917216\n",
       "MED ONLY         568193\n",
       "PPD SCH LOSS     437485\n",
       "UNKNOWN          234574\n",
       "PPD NSL           88476\n",
       "CANCELLED         21643\n",
       "DEATH              5804\n",
       "PTD                4382\n",
       "Name: Claim Injury Type, dtype: int64"
      ]
     },
     "execution_count": 269,
     "metadata": {},
     "output_type": "execute_result"
    }
   ],
   "source": [
    "data['Claim Injury Type'].value_counts()"
   ]
  },
  {
   "cell_type": "code",
   "execution_count": 13,
   "metadata": {},
   "outputs": [],
   "source": [
    "#data[data['Claim Injury Type']['Attorney/Representative']].value_counts()"
   ]
  },
  {
   "cell_type": "markdown",
   "metadata": {},
   "source": [
    "#### Cardnilaity is more than it should be, 112 for age doesn't sound right "
   ]
  },
  {
   "cell_type": "code",
   "execution_count": 11,
   "metadata": {},
   "outputs": [],
   "source": [
    "data = data[data['Claim Type'] == 'Workers Compensation']"
   ]
  },
  {
   "cell_type": "code",
   "execution_count": 12,
   "metadata": {},
   "outputs": [],
   "source": [
    "data['Accident Date'] = pd.to_datetime(data['Accident Date'], infer_datetime_format=True)"
   ]
  },
  {
   "cell_type": "code",
   "execution_count": 13,
   "metadata": {},
   "outputs": [],
   "source": [
    "data['Accident Date year'] = data['Accident Date'].dt.to_period('Y') "
   ]
  },
  {
   "cell_type": "code",
   "execution_count": 14,
   "metadata": {},
   "outputs": [
    {
     "data": {
      "text/plain": [
       "0   2015\n",
       "1   2015\n",
       "2   2015\n",
       "3   2015\n",
       "4   2015\n",
       "Name: Accident Date year, dtype: object"
      ]
     },
     "execution_count": 14,
     "metadata": {},
     "output_type": "execute_result"
    }
   ],
   "source": [
    "data['Accident Date year'].head()"
   ]
  },
  {
   "cell_type": "code",
   "execution_count": 245,
   "metadata": {},
   "outputs": [
    {
     "data": {
      "text/plain": [
       "0   1970\n",
       "1   1970\n",
       "2   1970\n",
       "3   1970\n",
       "4   1970\n",
       "Name: Birth Years, dtype: object"
      ]
     },
     "execution_count": 245,
     "metadata": {},
     "output_type": "execute_result"
    }
   ],
   "source": [
    "data['Birth Years'].head()"
   ]
  },
  {
   "cell_type": "code",
   "execution_count": null,
   "metadata": {},
   "outputs": [],
   "source": [
    "data['Birth Year'] = pd.to_datetime(data['Birth Year'])"
   ]
  },
  {
   "cell_type": "code",
   "execution_count": 15,
   "metadata": {},
   "outputs": [],
   "source": [
    "data['Birth Year'] = pd.to_datetime(data['Birth Year'])"
   ]
  },
  {
   "cell_type": "code",
   "execution_count": 16,
   "metadata": {},
   "outputs": [],
   "source": [
    "data['Birth Years'] = data['Birth Year'].dt.to_period('Y') "
   ]
  },
  {
   "cell_type": "code",
   "execution_count": 17,
   "metadata": {},
   "outputs": [],
   "source": [
    "data['injury age'] = data['Accident Date year'] - data['Birth Years']"
   ]
  },
  {
   "cell_type": "code",
   "execution_count": 18,
   "metadata": {},
   "outputs": [],
   "source": [
    "data['injury age'] = data['injury age'].astype('int64')"
   ]
  },
  {
   "cell_type": "code",
   "execution_count": 19,
   "metadata": {},
   "outputs": [],
   "source": [
    "data['injury age'] = data['injury age'].fillna(0)"
   ]
  },
  {
   "cell_type": "code",
   "execution_count": 20,
   "metadata": {},
   "outputs": [],
   "source": [
    "data.loc[data['injury age'] <=16 ,'injury age'] = data['injury age'].median()"
   ]
  },
  {
   "cell_type": "code",
   "execution_count": 21,
   "metadata": {},
   "outputs": [
    {
     "data": {
      "text/plain": [
       "<matplotlib.axes._subplots.AxesSubplot at 0x27780327940>"
      ]
     },
     "execution_count": 21,
     "metadata": {},
     "output_type": "execute_result"
    },
    {
     "data": {
      "image/png": "[encoded data removed]",
      "text/plain": [
       "<matplotlib.figure.Figure at 0x277800ab320>"
      ]
     },
     "metadata": {},
     "output_type": "display_data"
    }
   ],
   "source": [
    "data['injury age'].plot(kind = 'hist')"
   ]
  },
  {
   "cell_type": "code",
   "execution_count": 25,
   "metadata": {},
   "outputs": [
    {
     "data": {
      "text/plain": [
       "5.6471326712806365"
      ]
     },
     "execution_count": 25,
     "metadata": {},
     "output_type": "execute_result"
    }
   ],
   "source": [
    "data['injury age'].std()"
   ]
  },
  {
   "cell_type": "code",
   "execution_count": 30,
   "metadata": {},
   "outputs": [
    {
     "data": {
      "text/plain": [
       "<matplotlib.axes._subplots.AxesSubplot at 0x1cfa3a9ad68>"
      ]
     },
     "execution_count": 30,
     "metadata": {},
     "output_type": "execute_result"
    },
    {
     "data": {
      "image/png": "[encoded data removed]",
      "text/plain": [
       "<matplotlib.figure.Figure at 0x1cf05174b38>"
      ]
     },
     "metadata": {},
     "output_type": "display_data"
    }
   ],
   "source": [
    "data['Age at Injury'].plot(kind = 'hist')"
   ]
  },
  {
   "cell_type": "code",
   "execution_count": 27,
   "metadata": {},
   "outputs": [],
   "source": []
  },
  {
   "cell_type": "code",
   "execution_count": 26,
   "metadata": {},
   "outputs": [],
   "source": [
    "invalid_list = ['Claim Type','Claim Identifier','Hearing Count','Highest Process','Current Claim Status','Assembly Date','ANCR Date','Alternative Dispute Resolution','Closed Count',\n",
    "               'Age at Injury', 'Accident Date','Birth Year', 'WCIO Part Of Body Description','WCIO Nature of Injury Description', 'WCIO Cause of Injury Description','Interval Assembled to ANCR','Accident Date year', 'Birth Years','Average Weekly Wage']"
   ]
  },
  {
   "cell_type": "code",
   "execution_count": 27,
   "metadata": {},
   "outputs": [],
   "source": [
    "valid_columns =valid_columns[~(valid_columns.isin(invalid_list))]"
   ]
  },
  {
   "cell_type": "code",
   "execution_count": 28,
   "metadata": {},
   "outputs": [
    {
     "data": {
      "text/plain": [
       "Index(['District Name', 'Claim Injury Type', 'WCIO Part Of Body Code',\n",
       "       'WCIO Nature of Injury Code', 'WCIO Cause of Injury Code', 'Gender',\n",
       "       'Zip Code', 'Medical Fee Region', 'Attorney/Representative',\n",
       "       'Carrier Name', 'Carrier Type', 'Accident', 'Occupational Disease',\n",
       "       'County of Injury'],\n",
       "      dtype='object')"
      ]
     },
     "execution_count": 28,
     "metadata": {},
     "output_type": "execute_result"
    }
   ],
   "source": [
    "(valid_columns)"
   ]
  },
  {
   "cell_type": "code",
   "execution_count": 29,
   "metadata": {},
   "outputs": [],
   "source": [
    "data = data[valid_columns]"
   ]
  },
  {
   "cell_type": "code",
   "execution_count": 30,
   "metadata": {},
   "outputs": [
    {
     "data": {
      "text/plain": [
       "Index(['District Name', 'Claim Injury Type', 'WCIO Part Of Body Code',\n",
       "       'WCIO Nature of Injury Code', 'WCIO Cause of Injury Code', 'Gender',\n",
       "       'Zip Code', 'Medical Fee Region', 'Attorney/Representative',\n",
       "       'Carrier Name', 'Carrier Type', 'Accident', 'Occupational Disease',\n",
       "       'County of Injury'],\n",
       "      dtype='object')"
      ]
     },
     "execution_count": 30,
     "metadata": {},
     "output_type": "execute_result"
    }
   ],
   "source": [
    "data.columns"
   ]
  },
  {
   "cell_type": "code",
   "execution_count": 98,
   "metadata": {},
   "outputs": [],
   "source": [
    "#data['Average Weekly Wage'].median()"
   ]
  },
  {
   "cell_type": "code",
   "execution_count": 31,
   "metadata": {},
   "outputs": [
    {
     "data": {
      "text/html": [
       "<div>\n",
       "<style scoped>\n",
       "    .dataframe tbody tr th:only-of-type {\n",
       "        vertical-align: middle;\n",
       "    }\n",
       "\n",
       "    .dataframe tbody tr th {\n",
       "        vertical-align: top;\n",
       "    }\n",
       "\n",
       "    .dataframe thead th {\n",
       "        text-align: right;\n",
       "    }\n",
       "</style>\n",
       "<table border=\"1\" class=\"dataframe\">\n",
       "  <thead>\n",
       "    <tr style=\"text-align: right;\">\n",
       "      <th></th>\n",
       "      <th>District Name</th>\n",
       "      <th>Claim Injury Type</th>\n",
       "      <th>WCIO Part Of Body Code</th>\n",
       "      <th>WCIO Nature of Injury Code</th>\n",
       "      <th>WCIO Cause of Injury Code</th>\n",
       "      <th>Gender</th>\n",
       "      <th>Zip Code</th>\n",
       "      <th>Medical Fee Region</th>\n",
       "      <th>Attorney/Representative</th>\n",
       "      <th>Carrier Name</th>\n",
       "      <th>Carrier Type</th>\n",
       "      <th>Accident</th>\n",
       "      <th>Occupational Disease</th>\n",
       "      <th>County of Injury</th>\n",
       "    </tr>\n",
       "  </thead>\n",
       "  <tbody>\n",
       "    <tr>\n",
       "      <th>0</th>\n",
       "      <td>BUFFALO</td>\n",
       "      <td>PPD NSL</td>\n",
       "      <td>42</td>\n",
       "      <td>59</td>\n",
       "      <td>75</td>\n",
       "      <td>M</td>\n",
       "      <td>14201</td>\n",
       "      <td>II</td>\n",
       "      <td>Y</td>\n",
       "      <td>UTICA MUTUAL INSURANCE CO</td>\n",
       "      <td>1A. PRIVATE</td>\n",
       "      <td>Y</td>\n",
       "      <td>N</td>\n",
       "      <td>ERIE</td>\n",
       "    </tr>\n",
       "    <tr>\n",
       "      <th>1</th>\n",
       "      <td>ALBANY</td>\n",
       "      <td>PPD NSL</td>\n",
       "      <td>20</td>\n",
       "      <td>52</td>\n",
       "      <td>75</td>\n",
       "      <td>F</td>\n",
       "      <td>12205</td>\n",
       "      <td>II</td>\n",
       "      <td>Y</td>\n",
       "      <td>STATE INSURANCE FUND</td>\n",
       "      <td>2A. SIF</td>\n",
       "      <td>Y</td>\n",
       "      <td>N</td>\n",
       "      <td>ALBANY</td>\n",
       "    </tr>\n",
       "    <tr>\n",
       "      <th>2</th>\n",
       "      <td>NYC</td>\n",
       "      <td>PPD NSL</td>\n",
       "      <td>42</td>\n",
       "      <td>52</td>\n",
       "      <td>55</td>\n",
       "      <td>F</td>\n",
       "      <td>10701</td>\n",
       "      <td>III</td>\n",
       "      <td>Y</td>\n",
       "      <td>STATE INSURANCE FUND</td>\n",
       "      <td>2A. SIF</td>\n",
       "      <td>Y</td>\n",
       "      <td>N</td>\n",
       "      <td>WESTCHESTER</td>\n",
       "    </tr>\n",
       "    <tr>\n",
       "      <th>3</th>\n",
       "      <td>NYC</td>\n",
       "      <td>PPD NSL</td>\n",
       "      <td>42</td>\n",
       "      <td>59</td>\n",
       "      <td>99</td>\n",
       "      <td>M</td>\n",
       "      <td>11355</td>\n",
       "      <td>IV</td>\n",
       "      <td>Y</td>\n",
       "      <td>CHARTER OAK FIRE INS CO</td>\n",
       "      <td>1A. PRIVATE</td>\n",
       "      <td>Y</td>\n",
       "      <td>N</td>\n",
       "      <td>QUEENS</td>\n",
       "    </tr>\n",
       "    <tr>\n",
       "      <th>4</th>\n",
       "      <td>NYC</td>\n",
       "      <td>PPD NSL</td>\n",
       "      <td>42</td>\n",
       "      <td>52</td>\n",
       "      <td>56</td>\n",
       "      <td>F</td>\n",
       "      <td>11735</td>\n",
       "      <td>IV</td>\n",
       "      <td>Y</td>\n",
       "      <td>SENTRY INSURANCE A MUTUAL CO</td>\n",
       "      <td>1A. PRIVATE</td>\n",
       "      <td>Y</td>\n",
       "      <td>N</td>\n",
       "      <td>NASSAU</td>\n",
       "    </tr>\n",
       "  </tbody>\n",
       "</table>\n",
       "</div>"
      ],
      "text/plain": [
       "  District Name Claim Injury Type WCIO Part Of Body Code  \\\n",
       "0       BUFFALO           PPD NSL                     42   \n",
       "1        ALBANY           PPD NSL                     20   \n",
       "2           NYC           PPD NSL                     42   \n",
       "3           NYC           PPD NSL                     42   \n",
       "4           NYC           PPD NSL                     42   \n",
       "\n",
       "  WCIO Nature of Injury Code WCIO Cause of Injury Code Gender Zip Code  \\\n",
       "0                         59                        75      M    14201   \n",
       "1                         52                        75      F    12205   \n",
       "2                         52                        55      F    10701   \n",
       "3                         59                        99      M    11355   \n",
       "4                         52                        56      F    11735   \n",
       "\n",
       "  Medical Fee Region Attorney/Representative                  Carrier Name  \\\n",
       "0                 II                       Y     UTICA MUTUAL INSURANCE CO   \n",
       "1                 II                       Y          STATE INSURANCE FUND   \n",
       "2                III                       Y          STATE INSURANCE FUND   \n",
       "3                 IV                       Y       CHARTER OAK FIRE INS CO   \n",
       "4                 IV                       Y  SENTRY INSURANCE A MUTUAL CO   \n",
       "\n",
       "  Carrier Type Accident Occupational Disease County of Injury  \n",
       "0  1A. PRIVATE        Y                    N             ERIE  \n",
       "1      2A. SIF        Y                    N           ALBANY  \n",
       "2      2A. SIF        Y                    N      WESTCHESTER  \n",
       "3  1A. PRIVATE        Y                    N           QUEENS  \n",
       "4  1A. PRIVATE        Y                    N           NASSAU  "
      ]
     },
     "execution_count": 31,
     "metadata": {},
     "output_type": "execute_result"
    }
   ],
   "source": [
    "data.head()"
   ]
  },
  {
   "cell_type": "code",
   "execution_count": 33,
   "metadata": {},
   "outputs": [
    {
     "data": {
      "text/plain": [
       "Y    98.18\n",
       "N     1.82\n",
       "Name: Accident, dtype: float64"
      ]
     },
     "execution_count": 33,
     "metadata": {},
     "output_type": "execute_result"
    }
   ],
   "source": [
    "round(data['Accident'].value_counts()/data['Accident'].shape[0] * 100, 2)\n",
    "#this is interesting some injuries were not accident? We will have to look into this further we may uncover something intersting"
   ]
  },
  {
   "cell_type": "markdown",
   "metadata": {},
   "source": [
    "### If the injury is not an accident it very likely it will end up in litigation "
   ]
  },
  {
   "cell_type": "code",
   "execution_count": 12,
   "metadata": {},
   "outputs": [
    {
     "data": {
      "text/plain": [
       "N    1034287\n",
       "Y      95550\n",
       "Name: Attorney/Representative, dtype: int64"
      ]
     },
     "execution_count": 12,
     "metadata": {},
     "output_type": "execute_result"
    }
   ],
   "source": [
    "(data[data['Claim Injury Type'] == 'NON-COMP']['Attorney/Representative']).value_counts()"
   ]
  },
  {
   "cell_type": "code",
   "execution_count": 147,
   "metadata": {},
   "outputs": [
    {
     "data": {
      "text/plain": [
       "Y    47167\n",
       "N    14574\n",
       "Name: Attorney/Representative, dtype: int64"
      ]
     },
     "execution_count": 147,
     "metadata": {},
     "output_type": "execute_result"
    }
   ],
   "source": [
    "(data[data['Accident'] == 'N']['Attorney/Representative']).value_counts()"
   ]
  },
  {
   "cell_type": "code",
   "execution_count": 13,
   "metadata": {},
   "outputs": [
    {
     "data": {
      "text/plain": [
       "N    3345781\n",
       "Y      61829\n",
       "Name: Occupational Disease, dtype: int64"
      ]
     },
     "execution_count": 13,
     "metadata": {},
     "output_type": "execute_result"
    }
   ],
   "source": [
    "data['Occupational Disease'].value_counts()"
   ]
  },
  {
   "cell_type": "code",
   "execution_count": 52,
   "metadata": {},
   "outputs": [
    {
     "data": {
      "text/plain": [
       "N    2287822\n",
       "Y    1033689\n",
       "Name: Attorney/Representative, dtype: int64"
      ]
     },
     "execution_count": 52,
     "metadata": {},
     "output_type": "execute_result"
    }
   ],
   "source": [
    "(data[data['Occupational Disease'] == 'N']['Attorney/Representative']).value_counts()"
   ]
  },
  {
   "cell_type": "code",
   "execution_count": 34,
   "metadata": {},
   "outputs": [
    {
     "data": {
      "text/plain": [
       "<matplotlib.axes._subplots.AxesSubplot at 0x27780637b38>"
      ]
     },
     "execution_count": 34,
     "metadata": {},
     "output_type": "execute_result"
    },
    {
     "data": {
      "image/png": "[encoded data removed]",
      "text/plain": [
       "<matplotlib.figure.Figure at 0x277806374e0>"
      ]
     },
     "metadata": {},
     "output_type": "display_data"
    }
   ],
   "source": [
    "# Let's now build our model, beofre that let's see what the distribution of our target variable is like\n",
    "round(data['Attorney/Representative'].value_counts()/data['Attorney/Representative'].shape[0]*100, 2).plot(kind = 'bar')\n",
    "# This is no evenly distributed! We will use precsion, recall and F1 score as our performance metrics"
   ]
  },
  {
   "cell_type": "code",
   "execution_count": 10,
   "metadata": {
    "collapsed": true
   },
   "outputs": [],
   "source": [
    "#data['Average Weekly Wage'].unique().sum()"
   ]
  },
  {
   "cell_type": "code",
   "execution_count": 11,
   "metadata": {},
   "outputs": [
    {
     "data": {
      "text/plain": [
       "210851"
      ]
     },
     "execution_count": 11,
     "metadata": {},
     "output_type": "execute_result"
    }
   ],
   "source": [
    "#Before that let's clean our data set\n",
    "#We use 26 attribtues and we will convert them into categorical vairable\n",
    "#we won't use dummy variable becauase there will be attribute explosion \n",
    "(data['Average Weekly Wage'].replace('\\$','',regex = True).astype(float)).nunique()\n",
    "\n",
    "#replcae $ with number"
   ]
  },
  {
   "cell_type": "code",
   "execution_count": 293,
   "metadata": {},
   "outputs": [
    {
     "data": {
      "text/plain": [
       "<matplotlib.axes._subplots.AxesSubplot at 0x27826ea75f8>"
      ]
     },
     "execution_count": 293,
     "metadata": {},
     "output_type": "execute_result"
    },
    {
     "data": {
      "image/png": "[encoded data removed]",
      "text/plain": [
       "<matplotlib.figure.Figure at 0x2793cd333c8>"
      ]
     },
     "metadata": {},
     "output_type": "display_data"
    }
   ],
   "source": [
    "data['Claim Injury Type'].value_counts().plot(kind='kde')"
   ]
  },
  {
   "cell_type": "code",
   "execution_count": 294,
   "metadata": {},
   "outputs": [
    {
     "data": {
      "text/plain": [
       "<matplotlib.axes._subplots.AxesSubplot at 0x27952a19fd0>"
      ]
     },
     "execution_count": 294,
     "metadata": {},
     "output_type": "execute_result"
    },
    {
     "data": {
      "image/png": "[encoded data removed]",
      "text/plain": [
       "<matplotlib.figure.Figure at 0x278495cfb38>"
      ]
     },
     "metadata": {},
     "output_type": "display_data"
    }
   ],
   "source": [
    "data['WCIO Part Of Body Code'].value_counts().plot(kind='kde')"
   ]
  },
  {
   "cell_type": "code",
   "execution_count": 28,
   "metadata": {},
   "outputs": [
    {
     "data": {
      "text/plain": [
       "<matplotlib.axes._subplots.AxesSubplot at 0x2558661dba8>"
      ]
     },
     "execution_count": 28,
     "metadata": {},
     "output_type": "execute_result"
    },
    {
     "data": {
      "image/png": "[encoded data removed]",
      "text/plain": [
       "<matplotlib.figure.Figure at 0x255862e8400>"
      ]
     },
     "metadata": {},
     "output_type": "display_data"
    }
   ],
   "source": [
    "data['WCIO Part Of Body Code'].value_counts().head(5).plot(kind='bar')"
   ]
  },
  {
   "cell_type": "code",
   "execution_count": 31,
   "metadata": {},
   "outputs": [
    {
     "data": {
      "text/plain": [
       "Index(['Claim Identifier', 'Claim Type', 'District Name',\n",
       "       'Average Weekly Wage', 'Current Claim Status', 'Claim Injury Type',\n",
       "       'Age at Injury', 'Assembly Date', 'Accident Date', 'ANCR Date',\n",
       "       'Controverted Date', 'Section 32 Date', 'PPD Scheduled Loss Date',\n",
       "       'PPD Non-Scheduled Loss Date', 'PTD Date', 'First Appeal Date',\n",
       "       'WCIO Part Of Body Code', 'WCIO Part Of Body Description',\n",
       "       'WCIO Nature of Injury Code', 'WCIO Nature of Injury Description',\n",
       "       'WCIO Cause of Injury Code', 'WCIO Cause of Injury Description',\n",
       "       'OIICS Part Of Body Code', 'OIICS Part Of Body Description',\n",
       "       'OIICS Nature of Injury Code', 'OIICS Nature of Injury Description',\n",
       "       'OIICS Injury Source Code', 'OIICS Injury Source Description',\n",
       "       'OIICS Event Exposure Code', 'OIICS Event Exposure Description',\n",
       "       'OIICS Secondary Source Code', 'OIICS Secondary Source Description',\n",
       "       'Alternative Dispute Resolution', 'Gender', 'Birth Year', 'Zip Code',\n",
       "       'Medical Fee Region', 'C-2 Date', 'C-3 Date', 'First Hearing Date',\n",
       "       'Highest Process', 'Hearing Count', 'Closed Count',\n",
       "       'Attorney/Representative', 'Carrier Name', 'Carrier Type',\n",
       "       'IME-4 Count', 'Interval Assembled to ANCR', 'Accident',\n",
       "       'Occupational Disease', 'County of Injury', 'Accident Date year',\n",
       "       'Birth Years', 'injury age'],\n",
       "      dtype='object')"
      ]
     },
     "execution_count": 31,
     "metadata": {},
     "output_type": "execute_result"
    }
   ],
   "source": [
    "valid_columns = data.columns[~data.columns.isin(invalid_list)]\n",
    "data.columns"
   ]
  },
  {
   "cell_type": "code",
   "execution_count": 14,
   "metadata": {},
   "outputs": [
    {
     "data": {
      "text/plain": [
       "NEW YORK       321606\n",
       "QUEENS         298281\n",
       "SUFFOLK        287631\n",
       "KINGS          263093\n",
       "NASSAU         219034\n",
       "ERIE           200803\n",
       "BRONX          177248\n",
       "MONROE         145959\n",
       "WESTCHESTER    138545\n",
       "ONONDAGA       103178\n",
       "Name: County of Injury, dtype: int64"
      ]
     },
     "execution_count": 14,
     "metadata": {},
     "output_type": "execute_result"
    }
   ],
   "source": [
    "data['County of Injury'].value_counts().head(10)"
   ]
  },
  {
   "cell_type": "code",
   "execution_count": 281,
   "metadata": {},
   "outputs": [
    {
     "data": {
      "text/plain": [
       "Index(['Claim Identifier', 'Claim Type', 'District Name',\n",
       "       'Average Weekly Wage', 'Current Claim Status', 'Claim Injury Type',\n",
       "       'Age at Injury', 'Assembly Date', 'Accident Date', 'ANCR Date',\n",
       "       'Controverted Date', 'Section 32 Date', 'PPD Scheduled Loss Date',\n",
       "       'PPD Non-Scheduled Loss Date', 'PTD Date', 'First Appeal Date',\n",
       "       'WCIO Part Of Body Code', 'WCIO Part Of Body Description',\n",
       "       'WCIO Nature of Injury Code', 'WCIO Nature of Injury Description',\n",
       "       'WCIO Cause of Injury Code', 'WCIO Cause of Injury Description',\n",
       "       'OIICS Part Of Body Code', 'OIICS Part Of Body Description',\n",
       "       'OIICS Nature of Injury Code', 'OIICS Nature of Injury Description',\n",
       "       'OIICS Injury Source Code', 'OIICS Injury Source Description',\n",
       "       'OIICS Event Exposure Code', 'OIICS Event Exposure Description',\n",
       "       'OIICS Secondary Source Code', 'OIICS Secondary Source Description',\n",
       "       'Alternative Dispute Resolution', 'Gender', 'Birth Year', 'Zip Code',\n",
       "       'Medical Fee Region', 'C-2 Date', 'C-3 Date', 'First Hearing Date',\n",
       "       'Highest Process', 'Hearing Count', 'Closed Count',\n",
       "       'Attorney/Representative', 'Carrier Name', 'Carrier Type',\n",
       "       'IME-4 Count', 'Interval Assembled to ANCR', 'Accident',\n",
       "       'Occupational Disease', 'County of Injury'],\n",
       "      dtype='object')"
      ]
     },
     "execution_count": 281,
     "metadata": {},
     "output_type": "execute_result"
    }
   ],
   "source": [
    "data_1.columns"
   ]
  },
  {
   "cell_type": "code",
   "execution_count": 288,
   "metadata": {},
   "outputs": [
    {
     "data": {
      "text/plain": [
       "Y    809937\n",
       "N    134620\n",
       "Name: Attorney/Representative, dtype: int64"
      ]
     },
     "execution_count": 288,
     "metadata": {},
     "output_type": "execute_result"
    }
   ],
   "source": [
    "(data_1[data_1['Closed Count'] > 1]['Attorney/Representative']).value_counts()"
   ]
  },
  {
   "cell_type": "code",
   "execution_count": 290,
   "metadata": {},
   "outputs": [
    {
     "data": {
      "text/plain": [
       "0"
      ]
     },
     "execution_count": 290,
     "metadata": {},
     "output_type": "execute_result"
    }
   ],
   "source": [
    "data_1.duplicated().sum()"
   ]
  },
  {
   "cell_type": "code",
   "execution_count": 282,
   "metadata": {},
   "outputs": [
    {
     "data": {
      "text/plain": [
       "0     2125053\n",
       "1      471201\n",
       "2      234736\n",
       "3      150236\n",
       "4      103242\n",
       "5       74864\n",
       "6       56315\n",
       "7       43182\n",
       "8       33182\n",
       "9       25614\n",
       "10      19874\n",
       "11      15738\n",
       "12      11927\n",
       "13       9240\n",
       "14       7385\n",
       "15       5767\n",
       "16       4516\n",
       "17       3505\n",
       "18       2715\n",
       "19       2107\n",
       "20       1693\n",
       "21       1204\n",
       "22        961\n",
       "23        772\n",
       "24        605\n",
       "25        448\n",
       "26        335\n",
       "27        270\n",
       "28        207\n",
       "29        140\n",
       "30        122\n",
       "31        108\n",
       "32         66\n",
       "33         63\n",
       "34         39\n",
       "35         39\n",
       "37         28\n",
       "36         26\n",
       "38         14\n",
       "39         13\n",
       "43         11\n",
       "40         11\n",
       "42          7\n",
       "45          7\n",
       "41          6\n",
       "46          3\n",
       "48          3\n",
       "44          2\n",
       "47          2\n",
       "51          1\n",
       "55          1\n",
       "59          1\n",
       "50          1\n",
       "49          1\n",
       "61          1\n",
       "Name: Hearing Count, dtype: int64"
      ]
     },
     "execution_count": 282,
     "metadata": {},
     "output_type": "execute_result"
    }
   ],
   "source": [
    "data_1['Hearing Count'].value_counts()"
   ]
  },
  {
   "cell_type": "code",
   "execution_count": 37,
   "metadata": {},
   "outputs": [
    {
     "data": {
      "text/html": [
       "<div>\n",
       "<style scoped>\n",
       "    .dataframe tbody tr th:only-of-type {\n",
       "        vertical-align: middle;\n",
       "    }\n",
       "\n",
       "    .dataframe tbody tr th {\n",
       "        vertical-align: top;\n",
       "    }\n",
       "\n",
       "    .dataframe thead th {\n",
       "        text-align: right;\n",
       "    }\n",
       "</style>\n",
       "<table border=\"1\" class=\"dataframe\">\n",
       "  <thead>\n",
       "    <tr style=\"text-align: right;\">\n",
       "      <th></th>\n",
       "      <th>District Name</th>\n",
       "      <th>Claim Injury Type</th>\n",
       "      <th>WCIO Part Of Body Code</th>\n",
       "      <th>WCIO Nature of Injury Code</th>\n",
       "      <th>WCIO Cause of Injury Code</th>\n",
       "      <th>Gender</th>\n",
       "      <th>Zip Code</th>\n",
       "      <th>Medical Fee Region</th>\n",
       "      <th>Attorney/Representative</th>\n",
       "      <th>Carrier Name</th>\n",
       "      <th>Carrier Type</th>\n",
       "      <th>Accident</th>\n",
       "      <th>Occupational Disease</th>\n",
       "      <th>County of Injury</th>\n",
       "    </tr>\n",
       "  </thead>\n",
       "  <tbody>\n",
       "    <tr>\n",
       "      <th>0</th>\n",
       "      <td>BUFFALO</td>\n",
       "      <td>PPD NSL</td>\n",
       "      <td>42</td>\n",
       "      <td>59</td>\n",
       "      <td>75</td>\n",
       "      <td>M</td>\n",
       "      <td>14201</td>\n",
       "      <td>II</td>\n",
       "      <td>Y</td>\n",
       "      <td>UTICA MUTUAL INSURANCE CO</td>\n",
       "      <td>1A. PRIVATE</td>\n",
       "      <td>Y</td>\n",
       "      <td>N</td>\n",
       "      <td>ERIE</td>\n",
       "    </tr>\n",
       "    <tr>\n",
       "      <th>1</th>\n",
       "      <td>ALBANY</td>\n",
       "      <td>PPD NSL</td>\n",
       "      <td>20</td>\n",
       "      <td>52</td>\n",
       "      <td>75</td>\n",
       "      <td>F</td>\n",
       "      <td>12205</td>\n",
       "      <td>II</td>\n",
       "      <td>Y</td>\n",
       "      <td>STATE INSURANCE FUND</td>\n",
       "      <td>2A. SIF</td>\n",
       "      <td>Y</td>\n",
       "      <td>N</td>\n",
       "      <td>ALBANY</td>\n",
       "    </tr>\n",
       "    <tr>\n",
       "      <th>2</th>\n",
       "      <td>NYC</td>\n",
       "      <td>PPD NSL</td>\n",
       "      <td>42</td>\n",
       "      <td>52</td>\n",
       "      <td>55</td>\n",
       "      <td>F</td>\n",
       "      <td>10701</td>\n",
       "      <td>III</td>\n",
       "      <td>Y</td>\n",
       "      <td>STATE INSURANCE FUND</td>\n",
       "      <td>2A. SIF</td>\n",
       "      <td>Y</td>\n",
       "      <td>N</td>\n",
       "      <td>WESTCHESTER</td>\n",
       "    </tr>\n",
       "    <tr>\n",
       "      <th>3</th>\n",
       "      <td>NYC</td>\n",
       "      <td>PPD NSL</td>\n",
       "      <td>42</td>\n",
       "      <td>59</td>\n",
       "      <td>99</td>\n",
       "      <td>M</td>\n",
       "      <td>11355</td>\n",
       "      <td>IV</td>\n",
       "      <td>Y</td>\n",
       "      <td>CHARTER OAK FIRE INS CO</td>\n",
       "      <td>1A. PRIVATE</td>\n",
       "      <td>Y</td>\n",
       "      <td>N</td>\n",
       "      <td>QUEENS</td>\n",
       "    </tr>\n",
       "    <tr>\n",
       "      <th>4</th>\n",
       "      <td>NYC</td>\n",
       "      <td>PPD NSL</td>\n",
       "      <td>42</td>\n",
       "      <td>52</td>\n",
       "      <td>56</td>\n",
       "      <td>F</td>\n",
       "      <td>11735</td>\n",
       "      <td>IV</td>\n",
       "      <td>Y</td>\n",
       "      <td>SENTRY INSURANCE A MUTUAL CO</td>\n",
       "      <td>1A. PRIVATE</td>\n",
       "      <td>Y</td>\n",
       "      <td>N</td>\n",
       "      <td>NASSAU</td>\n",
       "    </tr>\n",
       "  </tbody>\n",
       "</table>\n",
       "</div>"
      ],
      "text/plain": [
       "  District Name Claim Injury Type WCIO Part Of Body Code  \\\n",
       "0       BUFFALO           PPD NSL                     42   \n",
       "1        ALBANY           PPD NSL                     20   \n",
       "2           NYC           PPD NSL                     42   \n",
       "3           NYC           PPD NSL                     42   \n",
       "4           NYC           PPD NSL                     42   \n",
       "\n",
       "  WCIO Nature of Injury Code WCIO Cause of Injury Code Gender Zip Code  \\\n",
       "0                         59                        75      M    14201   \n",
       "1                         52                        75      F    12205   \n",
       "2                         52                        55      F    10701   \n",
       "3                         59                        99      M    11355   \n",
       "4                         52                        56      F    11735   \n",
       "\n",
       "  Medical Fee Region Attorney/Representative                  Carrier Name  \\\n",
       "0                 II                       Y     UTICA MUTUAL INSURANCE CO   \n",
       "1                 II                       Y          STATE INSURANCE FUND   \n",
       "2                III                       Y          STATE INSURANCE FUND   \n",
       "3                 IV                       Y       CHARTER OAK FIRE INS CO   \n",
       "4                 IV                       Y  SENTRY INSURANCE A MUTUAL CO   \n",
       "\n",
       "  Carrier Type Accident Occupational Disease County of Injury  \n",
       "0  1A. PRIVATE        Y                    N             ERIE  \n",
       "1      2A. SIF        Y                    N           ALBANY  \n",
       "2      2A. SIF        Y                    N      WESTCHESTER  \n",
       "3  1A. PRIVATE        Y                    N           QUEENS  \n",
       "4  1A. PRIVATE        Y                    N           NASSAU  "
      ]
     },
     "execution_count": 37,
     "metadata": {},
     "output_type": "execute_result"
    }
   ],
   "source": [
    "data.head()"
   ]
  },
  {
   "cell_type": "code",
   "execution_count": 59,
   "metadata": {},
   "outputs": [],
   "source": [
    "\n",
    "categorical_col = data[['District Name','Gender',\n",
    "                       'Medical Fee Region', 'Carrier Type', 'Occupational Disease','Accident',\n",
    "                        'County of Injury','Attorney/Representative','Claim Injury Type','Carrier Name' ]]"
   ]
  },
  {
   "cell_type": "code",
   "execution_count": null,
   "metadata": {},
   "outputs": [],
   "source": []
  },
  {
   "cell_type": "code",
   "execution_count": 60,
   "metadata": {},
   "outputs": [],
   "source": [
    "from sklearn.preprocessing import LabelEncoder\n",
    "\n",
    "lb_make = LabelEncoder()\n",
    "df_encoded = categorical_col.apply(lb_make.fit_transform)"
   ]
  },
  {
   "cell_type": "code",
   "execution_count": 61,
   "metadata": {},
   "outputs": [
    {
     "data": {
      "text/html": [
       "<div>\n",
       "<style scoped>\n",
       "    .dataframe tbody tr th:only-of-type {\n",
       "        vertical-align: middle;\n",
       "    }\n",
       "\n",
       "    .dataframe tbody tr th {\n",
       "        vertical-align: top;\n",
       "    }\n",
       "\n",
       "    .dataframe thead th {\n",
       "        text-align: right;\n",
       "    }\n",
       "</style>\n",
       "<table border=\"1\" class=\"dataframe\">\n",
       "  <thead>\n",
       "    <tr style=\"text-align: right;\">\n",
       "      <th></th>\n",
       "      <th>District Name</th>\n",
       "      <th>Gender</th>\n",
       "      <th>Medical Fee Region</th>\n",
       "      <th>Carrier Type</th>\n",
       "      <th>Occupational Disease</th>\n",
       "      <th>Accident</th>\n",
       "      <th>County of Injury</th>\n",
       "      <th>Attorney/Representative</th>\n",
       "      <th>Claim Injury Type</th>\n",
       "      <th>Carrier Name</th>\n",
       "    </tr>\n",
       "  </thead>\n",
       "  <tbody>\n",
       "    <tr>\n",
       "      <th>0</th>\n",
       "      <td>2</td>\n",
       "      <td>1</td>\n",
       "      <td>1</td>\n",
       "      <td>0</td>\n",
       "      <td>0</td>\n",
       "      <td>1</td>\n",
       "      <td>14</td>\n",
       "      <td>1</td>\n",
       "      <td>4</td>\n",
       "      <td>1645</td>\n",
       "    </tr>\n",
       "    <tr>\n",
       "      <th>1</th>\n",
       "      <td>0</td>\n",
       "      <td>0</td>\n",
       "      <td>1</td>\n",
       "      <td>1</td>\n",
       "      <td>0</td>\n",
       "      <td>1</td>\n",
       "      <td>0</td>\n",
       "      <td>1</td>\n",
       "      <td>4</td>\n",
       "      <td>1488</td>\n",
       "    </tr>\n",
       "    <tr>\n",
       "      <th>2</th>\n",
       "      <td>5</td>\n",
       "      <td>0</td>\n",
       "      <td>2</td>\n",
       "      <td>1</td>\n",
       "      <td>0</td>\n",
       "      <td>1</td>\n",
       "      <td>60</td>\n",
       "      <td>1</td>\n",
       "      <td>4</td>\n",
       "      <td>1488</td>\n",
       "    </tr>\n",
       "    <tr>\n",
       "      <th>3</th>\n",
       "      <td>5</td>\n",
       "      <td>1</td>\n",
       "      <td>3</td>\n",
       "      <td>0</td>\n",
       "      <td>0</td>\n",
       "      <td>1</td>\n",
       "      <td>40</td>\n",
       "      <td>1</td>\n",
       "      <td>4</td>\n",
       "      <td>283</td>\n",
       "    </tr>\n",
       "    <tr>\n",
       "      <th>4</th>\n",
       "      <td>5</td>\n",
       "      <td>0</td>\n",
       "      <td>3</td>\n",
       "      <td>0</td>\n",
       "      <td>0</td>\n",
       "      <td>1</td>\n",
       "      <td>29</td>\n",
       "      <td>1</td>\n",
       "      <td>4</td>\n",
       "      <td>1407</td>\n",
       "    </tr>\n",
       "  </tbody>\n",
       "</table>\n",
       "</div>"
      ],
      "text/plain": [
       "   District Name  Gender  Medical Fee Region  Carrier Type  \\\n",
       "0              2       1                   1             0   \n",
       "1              0       0                   1             1   \n",
       "2              5       0                   2             1   \n",
       "3              5       1                   3             0   \n",
       "4              5       0                   3             0   \n",
       "\n",
       "   Occupational Disease  Accident  County of Injury  Attorney/Representative  \\\n",
       "0                     0         1                14                        1   \n",
       "1                     0         1                 0                        1   \n",
       "2                     0         1                60                        1   \n",
       "3                     0         1                40                        1   \n",
       "4                     0         1                29                        1   \n",
       "\n",
       "   Claim Injury Type  Carrier Name  \n",
       "0                  4          1645  \n",
       "1                  4          1488  \n",
       "2                  4          1488  \n",
       "3                  4           283  \n",
       "4                  4          1407  "
      ]
     },
     "execution_count": 61,
     "metadata": {},
     "output_type": "execute_result"
    }
   ],
   "source": [
    "df_encoded.head()"
   ]
  },
  {
   "cell_type": "code",
   "execution_count": 62,
   "metadata": {},
   "outputs": [],
   "source": [
    "data_new_col = data.columns[~data.columns.isin(categorical_col.columns)]"
   ]
  },
  {
   "cell_type": "code",
   "execution_count": 63,
   "metadata": {},
   "outputs": [],
   "source": [
    "data_new = data[data_new_col]"
   ]
  },
  {
   "cell_type": "code",
   "execution_count": 64,
   "metadata": {},
   "outputs": [
    {
     "data": {
      "text/html": [
       "<div>\n",
       "<style scoped>\n",
       "    .dataframe tbody tr th:only-of-type {\n",
       "        vertical-align: middle;\n",
       "    }\n",
       "\n",
       "    .dataframe tbody tr th {\n",
       "        vertical-align: top;\n",
       "    }\n",
       "\n",
       "    .dataframe thead th {\n",
       "        text-align: right;\n",
       "    }\n",
       "</style>\n",
       "<table border=\"1\" class=\"dataframe\">\n",
       "  <thead>\n",
       "    <tr style=\"text-align: right;\">\n",
       "      <th></th>\n",
       "      <th>WCIO Part Of Body Code</th>\n",
       "      <th>WCIO Nature of Injury Code</th>\n",
       "      <th>WCIO Cause of Injury Code</th>\n",
       "      <th>Zip Code</th>\n",
       "    </tr>\n",
       "  </thead>\n",
       "  <tbody>\n",
       "    <tr>\n",
       "      <th>0</th>\n",
       "      <td>42</td>\n",
       "      <td>59</td>\n",
       "      <td>75</td>\n",
       "      <td>14201</td>\n",
       "    </tr>\n",
       "    <tr>\n",
       "      <th>1</th>\n",
       "      <td>20</td>\n",
       "      <td>52</td>\n",
       "      <td>75</td>\n",
       "      <td>12205</td>\n",
       "    </tr>\n",
       "    <tr>\n",
       "      <th>2</th>\n",
       "      <td>42</td>\n",
       "      <td>52</td>\n",
       "      <td>55</td>\n",
       "      <td>10701</td>\n",
       "    </tr>\n",
       "    <tr>\n",
       "      <th>3</th>\n",
       "      <td>42</td>\n",
       "      <td>59</td>\n",
       "      <td>99</td>\n",
       "      <td>11355</td>\n",
       "    </tr>\n",
       "    <tr>\n",
       "      <th>4</th>\n",
       "      <td>42</td>\n",
       "      <td>52</td>\n",
       "      <td>56</td>\n",
       "      <td>11735</td>\n",
       "    </tr>\n",
       "  </tbody>\n",
       "</table>\n",
       "</div>"
      ],
      "text/plain": [
       "  WCIO Part Of Body Code WCIO Nature of Injury Code WCIO Cause of Injury Code  \\\n",
       "0                     42                         59                        75   \n",
       "1                     20                         52                        75   \n",
       "2                     42                         52                        55   \n",
       "3                     42                         59                        99   \n",
       "4                     42                         52                        56   \n",
       "\n",
       "  Zip Code  \n",
       "0    14201  \n",
       "1    12205  \n",
       "2    10701  \n",
       "3    11355  \n",
       "4    11735  "
      ]
     },
     "execution_count": 64,
     "metadata": {},
     "output_type": "execute_result"
    }
   ],
   "source": [
    "data_new.head()"
   ]
  },
  {
   "cell_type": "code",
   "execution_count": 65,
   "metadata": {},
   "outputs": [],
   "source": [
    "data_training = pd.concat([data_new, df_encoded], axis = 1)"
   ]
  },
  {
   "cell_type": "code",
   "execution_count": 67,
   "metadata": {},
   "outputs": [
    {
     "data": {
      "text/plain": [
       "(3383252, 14)"
      ]
     },
     "execution_count": 67,
     "metadata": {},
     "output_type": "execute_result"
    }
   ],
   "source": [
    "data_training.shape"
   ]
  },
  {
   "cell_type": "code",
   "execution_count": 70,
   "metadata": {},
   "outputs": [
    {
     "data": {
      "text/plain": [
       "14"
      ]
     },
     "execution_count": 70,
     "metadata": {},
     "output_type": "execute_result"
    }
   ],
   "source": [
    "len(data_training.columns)"
   ]
  },
  {
   "cell_type": "code",
   "execution_count": 71,
   "metadata": {},
   "outputs": [
    {
     "data": {
      "text/plain": [
       "Index(['WCIO Part Of Body Code', 'WCIO Nature of Injury Code',\n",
       "       'WCIO Cause of Injury Code', 'Zip Code', 'District Name', 'Gender',\n",
       "       'Medical Fee Region', 'Carrier Type', 'Occupational Disease',\n",
       "       'Accident', 'County of Injury', 'Attorney/Representative',\n",
       "       'Claim Injury Type', 'Carrier Name'],\n",
       "      dtype='object')"
      ]
     },
     "execution_count": 71,
     "metadata": {},
     "output_type": "execute_result"
    }
   ],
   "source": [
    "data_training.columns"
   ]
  },
  {
   "cell_type": "code",
   "execution_count": 92,
   "metadata": {},
   "outputs": [],
   "source": [
    "data_training['WCIO Part Of Body Code'] = data_training['WCIO Part Of Body Code'].replace('UK',0)"
   ]
  },
  {
   "cell_type": "code",
   "execution_count": 94,
   "metadata": {},
   "outputs": [],
   "source": [
    "data_training['WCIO Nature of Injury Code'] = data_training['WCIO Nature of Injury Code'].replace('UK',0)"
   ]
  },
  {
   "cell_type": "code",
   "execution_count": 95,
   "metadata": {},
   "outputs": [],
   "source": [
    "data_training['WCIO Cause of Injury Code'] = data_training['WCIO Cause of Injury Code'].replace('UK',0)"
   ]
  },
  {
   "cell_type": "code",
   "execution_count": 117,
   "metadata": {},
   "outputs": [],
   "source": [
    "data_training = data_training[['WCIO Part Of Body Code', 'WCIO Nature of Injury Code',\n",
    "       'WCIO Cause of Injury Code',  'District Name', 'Gender',\n",
    "       'Medical Fee Region', 'Carrier Type', 'Occupational Disease',\n",
    "       'Accident', 'County of Injury','Claim Injury Type','Attorney/Representative']]"
   ]
  },
  {
   "cell_type": "code",
   "execution_count": 97,
   "metadata": {},
   "outputs": [
    {
     "data": {
      "text/plain": [
       "<matplotlib.axes._subplots.AxesSubplot at 0x27781184518>"
      ]
     },
     "execution_count": 97,
     "metadata": {},
     "output_type": "execute_result"
    },
    {
     "data": {
      "image/png": "[encoded data removed]",
      "text/plain": [
       "<matplotlib.figure.Figure at 0x277806992b0>"
      ]
     },
     "metadata": {},
     "output_type": "display_data"
    }
   ],
   "source": [
    "import seaborn as sns\n",
    "sns.heatmap(data_training.corr())"
   ]
  },
  {
   "cell_type": "code",
   "execution_count": 84,
   "metadata": {},
   "outputs": [
    {
     "data": {
      "text/plain": [
       "Index(['WCIO Part Of Body Code', 'WCIO Cause of Injury Code',\n",
       "       'WCIO Nature of Injury Code', 'Gender', 'Medical Fee Region',\n",
       "       'Carrier Type', 'Occupational Disease', 'Accident', 'County of Injury',\n",
       "       'injury age', 'Attorney/Representative'],\n",
       "      dtype='object')"
      ]
     },
     "execution_count": 84,
     "metadata": {},
     "output_type": "execute_result"
    }
   ],
   "source": [
    "(categorical_col.columns)"
   ]
  },
  {
   "cell_type": "code",
   "execution_count": 118,
   "metadata": {},
   "outputs": [],
   "source": [
    "#Wohooo! We now build over classifer \n",
    "\n",
    "X = data_training.iloc[:,:-1]\n",
    "y = data_training.iloc[:,-1]\n"
   ]
  },
  {
   "cell_type": "code",
   "execution_count": 119,
   "metadata": {},
   "outputs": [
    {
     "data": {
      "text/html": [
       "<div>\n",
       "<style scoped>\n",
       "    .dataframe tbody tr th:only-of-type {\n",
       "        vertical-align: middle;\n",
       "    }\n",
       "\n",
       "    .dataframe tbody tr th {\n",
       "        vertical-align: top;\n",
       "    }\n",
       "\n",
       "    .dataframe thead th {\n",
       "        text-align: right;\n",
       "    }\n",
       "</style>\n",
       "<table border=\"1\" class=\"dataframe\">\n",
       "  <thead>\n",
       "    <tr style=\"text-align: right;\">\n",
       "      <th></th>\n",
       "      <th>WCIO Part Of Body Code</th>\n",
       "      <th>WCIO Nature of Injury Code</th>\n",
       "      <th>WCIO Cause of Injury Code</th>\n",
       "      <th>District Name</th>\n",
       "      <th>Gender</th>\n",
       "      <th>Medical Fee Region</th>\n",
       "      <th>Carrier Type</th>\n",
       "      <th>Occupational Disease</th>\n",
       "      <th>Accident</th>\n",
       "      <th>County of Injury</th>\n",
       "      <th>Claim Injury Type</th>\n",
       "      <th>Attorney/Representative</th>\n",
       "    </tr>\n",
       "  </thead>\n",
       "  <tbody>\n",
       "    <tr>\n",
       "      <th>0</th>\n",
       "      <td>42</td>\n",
       "      <td>59</td>\n",
       "      <td>75</td>\n",
       "      <td>2</td>\n",
       "      <td>1</td>\n",
       "      <td>1</td>\n",
       "      <td>0</td>\n",
       "      <td>0</td>\n",
       "      <td>1</td>\n",
       "      <td>14</td>\n",
       "      <td>4</td>\n",
       "      <td>1</td>\n",
       "    </tr>\n",
       "    <tr>\n",
       "      <th>1</th>\n",
       "      <td>20</td>\n",
       "      <td>52</td>\n",
       "      <td>75</td>\n",
       "      <td>0</td>\n",
       "      <td>0</td>\n",
       "      <td>1</td>\n",
       "      <td>1</td>\n",
       "      <td>0</td>\n",
       "      <td>1</td>\n",
       "      <td>0</td>\n",
       "      <td>4</td>\n",
       "      <td>1</td>\n",
       "    </tr>\n",
       "    <tr>\n",
       "      <th>2</th>\n",
       "      <td>42</td>\n",
       "      <td>52</td>\n",
       "      <td>55</td>\n",
       "      <td>5</td>\n",
       "      <td>0</td>\n",
       "      <td>2</td>\n",
       "      <td>1</td>\n",
       "      <td>0</td>\n",
       "      <td>1</td>\n",
       "      <td>60</td>\n",
       "      <td>4</td>\n",
       "      <td>1</td>\n",
       "    </tr>\n",
       "    <tr>\n",
       "      <th>3</th>\n",
       "      <td>42</td>\n",
       "      <td>59</td>\n",
       "      <td>99</td>\n",
       "      <td>5</td>\n",
       "      <td>1</td>\n",
       "      <td>3</td>\n",
       "      <td>0</td>\n",
       "      <td>0</td>\n",
       "      <td>1</td>\n",
       "      <td>40</td>\n",
       "      <td>4</td>\n",
       "      <td>1</td>\n",
       "    </tr>\n",
       "    <tr>\n",
       "      <th>4</th>\n",
       "      <td>42</td>\n",
       "      <td>52</td>\n",
       "      <td>56</td>\n",
       "      <td>5</td>\n",
       "      <td>0</td>\n",
       "      <td>3</td>\n",
       "      <td>0</td>\n",
       "      <td>0</td>\n",
       "      <td>1</td>\n",
       "      <td>29</td>\n",
       "      <td>4</td>\n",
       "      <td>1</td>\n",
       "    </tr>\n",
       "  </tbody>\n",
       "</table>\n",
       "</div>"
      ],
      "text/plain": [
       "  WCIO Part Of Body Code WCIO Nature of Injury Code WCIO Cause of Injury Code  \\\n",
       "0                     42                         59                        75   \n",
       "1                     20                         52                        75   \n",
       "2                     42                         52                        55   \n",
       "3                     42                         59                        99   \n",
       "4                     42                         52                        56   \n",
       "\n",
       "   District Name  Gender  Medical Fee Region  Carrier Type  \\\n",
       "0              2       1                   1             0   \n",
       "1              0       0                   1             1   \n",
       "2              5       0                   2             1   \n",
       "3              5       1                   3             0   \n",
       "4              5       0                   3             0   \n",
       "\n",
       "   Occupational Disease  Accident  County of Injury  Claim Injury Type  \\\n",
       "0                     0         1                14                  4   \n",
       "1                     0         1                 0                  4   \n",
       "2                     0         1                60                  4   \n",
       "3                     0         1                40                  4   \n",
       "4                     0         1                29                  4   \n",
       "\n",
       "   Attorney/Representative  \n",
       "0                        1  \n",
       "1                        1  \n",
       "2                        1  \n",
       "3                        1  \n",
       "4                        1  "
      ]
     },
     "execution_count": 119,
     "metadata": {},
     "output_type": "execute_result"
    }
   ],
   "source": [
    "data_training.head()"
   ]
  },
  {
   "cell_type": "code",
   "execution_count": 289,
   "metadata": {},
   "outputs": [
    {
     "data": {
      "text/plain": [
       "Index(['WCIO Part Of Body Code', 'WCIO Nature of Injury Code',\n",
       "       'WCIO Cause of Injury Code', 'District Name', 'Gender',\n",
       "       'Medical Fee Region', 'Carrier Type', 'Occupational Disease',\n",
       "       'Accident', 'County of Injury', 'Claim Injury Type',\n",
       "       'Attorney/Representative'],\n",
       "      dtype='object')"
      ]
     },
     "execution_count": 289,
     "metadata": {},
     "output_type": "execute_result"
    }
   ],
   "source": [
    "data_training.columns"
   ]
  },
  {
   "cell_type": "code",
   "execution_count": 120,
   "metadata": {},
   "outputs": [],
   "source": [
    "X_train, X_test, y_train, y_test = train_test_split(X, y, test_size=0.8)\n"
   ]
  },
  {
   "cell_type": "code",
   "execution_count": 121,
   "metadata": {},
   "outputs": [
    {
     "data": {
      "text/plain": [
       "0    1842396\n",
       "1     864206\n",
       "Name: Attorney/Representative, dtype: int64"
      ]
     },
     "execution_count": 121,
     "metadata": {},
     "output_type": "execute_result"
    }
   ],
   "source": [
    "y_test.value_counts()"
   ]
  },
  {
   "cell_type": "markdown",
   "metadata": {},
   "source": [
    "### sampling method "
   ]
  },
  {
   "cell_type": "code",
   "execution_count": 142,
   "metadata": {},
   "outputs": [
    {
     "name": "stdout",
     "output_type": "stream",
     "text": [
      "Original shape: (676650, 11) (676650,)\n",
      "Upsampled shape: (920000, 11) (920000,)\n",
      "SMOTE sample shape: (920000, 11) (920000,)\n",
      "Downsampled shape: (433300, 11) (433300,)\n"
     ]
    }
   ],
   "source": [
    "from sklearn.utils import resample\n",
    "from imblearn.over_sampling import SMOTE \n",
    "\n",
    "# Upsample minority class\n",
    "X_train_u, y_train_u = resample(X_train[y_train == 1],\n",
    "                                y_train[y_train == 1],\n",
    "                                replace=True,\n",
    "                                n_samples=X_train[y_train == 0].shape[0],\n",
    "                                random_state=1)\n",
    "\n",
    "X_train_u = np.concatenate((X_train[y_train == 0], X_train_u))\n",
    "y_train_u = np.concatenate((y_train[y_train == 0], y_train_u))\n",
    "\n",
    "\n",
    "# Upsample using SMOTE\n",
    "sm = SMOTE(random_state=12, ratio = 1.0)\n",
    "x_train_sm, y_train_sm = sm.fit_sample(X_train, y_train)\n",
    "\n",
    "\n",
    "# Downsample majority class\n",
    "X_train_d, y_train_d = resample(X_train[y_train == 0],\n",
    "                                y_train[y_train == 0],\n",
    "                                replace=True,\n",
    "                                n_samples=X_train[y_train == 1].shape[0],\n",
    "                                random_state=1)\n",
    "X_train_d = np.concatenate((X_train[y_train == 1], X_train_d))\n",
    "y_train_d = np.concatenate((y_train[y_train == 1], y_train_d))\n",
    "\n",
    "\n",
    "print(\"Original shape:\", X_train.shape, y_train.shape)\n",
    "print(\"Upsampled shape:\", X_train_u.shape, y_train_u.shape)\n",
    "print (\"SMOTE sample shape:\", x_train_sm.shape, y_train_sm.shape)\n",
    "print(\"Downsampled shape:\", X_train_d.shape, y_train_d.shape)"
   ]
  },
  {
   "cell_type": "code",
   "execution_count": 143,
   "metadata": {},
   "outputs": [],
   "source": [
    "from sklearn.model_selection import cross_val_score\n",
    "rand_sm = RandomForestClassifier(class_weight = 'balanced')\n",
    "#result_rand = cross_val_score(rand, X_train_u, y_train_u, cv=5, scoring='f1')\n",
    "#result_DT = cross_val_score(clf, X_train_u, y_train_u, cv=5, scoring='f1')"
   ]
  },
  {
   "cell_type": "code",
   "execution_count": 144,
   "metadata": {},
   "outputs": [
    {
     "name": "stdout",
     "output_type": "stream",
     "text": [
      "upsmaple[0.90294299 0.90246074 0.90218712]\n"
     ]
    }
   ],
   "source": [
    "print('upsmaple'+ str(cross_val_score(rand_sm, X_train_u, y_train_u, cv=3, scoring='roc_auc')))"
   ]
  },
  {
   "cell_type": "code",
   "execution_count": 145,
   "metadata": {},
   "outputs": [
    {
     "name": "stdout",
     "output_type": "stream",
     "text": [
      "smote[0.87097065 0.90199962 0.9185297 ]\n"
     ]
    }
   ],
   "source": [
    "print('smote'+ str(cross_val_score(rand_sm, x_train_sm, y_train_sm, cv=3, scoring='roc_auc')))"
   ]
  },
  {
   "cell_type": "code",
   "execution_count": 146,
   "metadata": {},
   "outputs": [
    {
     "name": "stdout",
     "output_type": "stream",
     "text": [
      "downsample[0.88232303 0.88239281 0.88141739]\n"
     ]
    }
   ],
   "source": [
    "print('downsample'+ str(cross_val_score(rand_sm, X_train_d, y_train_d, cv=3, scoring='roc_auc')))"
   ]
  },
  {
   "cell_type": "code",
   "execution_count": 147,
   "metadata": {},
   "outputs": [
    {
     "name": "stdout",
     "output_type": "stream",
     "text": [
      "random forest params[0.87310816 0.87362585 0.87298582]\n"
     ]
    }
   ],
   "source": [
    "print('random forest params'+ str(cross_val_score(rand, X_train, y_train, cv=3, scoring='roc_auc')))"
   ]
  },
  {
   "cell_type": "markdown",
   "metadata": {},
   "source": [
    "## prediction "
   ]
  },
  {
   "cell_type": "code",
   "execution_count": 122,
   "metadata": {},
   "outputs": [
    {
     "data": {
      "text/plain": [
       "WCIO Part Of Body Code        object\n",
       "WCIO Nature of Injury Code    object\n",
       "WCIO Cause of Injury Code     object\n",
       "District Name                  int32\n",
       "Gender                         int32\n",
       "Medical Fee Region             int32\n",
       "Carrier Type                   int32\n",
       "Occupational Disease           int32\n",
       "Accident                       int32\n",
       "County of Injury               int32\n",
       "Claim Injury Type              int32\n",
       "dtype: object"
      ]
     },
     "execution_count": 122,
     "metadata": {},
     "output_type": "execute_result"
    }
   ],
   "source": [
    "X_train.dtypes"
   ]
  },
  {
   "cell_type": "code",
   "execution_count": 148,
   "metadata": {},
   "outputs": [
    {
     "data": {
      "text/plain": [
       "DecisionTreeClassifier(class_weight=None, criterion='gini', max_depth=None,\n",
       "            max_features=None, max_leaf_nodes=None,\n",
       "            min_impurity_decrease=0.0, min_impurity_split=None,\n",
       "            min_samples_leaf=1, min_samples_split=2,\n",
       "            min_weight_fraction_leaf=0.0, presort=False, random_state=None,\n",
       "            splitter='best')"
      ]
     },
     "execution_count": 148,
     "metadata": {},
     "output_type": "execute_result"
    }
   ],
   "source": [
    "clf = DecisionTreeClassifier()\n",
    "clf.fit(x_train_sm, y_train_sm)\n"
   ]
  },
  {
   "cell_type": "code",
   "execution_count": 150,
   "metadata": {},
   "outputs": [
    {
     "data": {
      "text/plain": [
       "array([0.82526122, 0.87133578, 0.89537997])"
      ]
     },
     "execution_count": 150,
     "metadata": {},
     "output_type": "execute_result"
    }
   ],
   "source": [
    "cross_val_score(clf, x_train_sm, y_train_sm, cv=3, scoring='roc_auc')"
   ]
  },
  {
   "cell_type": "code",
   "execution_count": 151,
   "metadata": {},
   "outputs": [],
   "source": [
    "y_pred_dt = clf.predict(X_test)"
   ]
  },
  {
   "cell_type": "code",
   "execution_count": 132,
   "metadata": {},
   "outputs": [
    {
     "name": "stdout",
     "output_type": "stream",
     "text": [
      "F1 for DT :0.6519522382642357\n",
      "Precison for DT :0.678888991888443\n",
      "Recall for DT :0.641169259462603\n"
     ]
    }
   ],
   "source": [
    "print(\"F1 for DT :\" + str(f1_score(y_test, y_pred_dt,average='weighted')))\n",
    "print(\"Precison for DT :\" + str(precision_score(y_test, y_pred_dt,average='weighted')))\n",
    "print(\"Recall for DT :\" + str(recall_score(y_test, y_pred_dt,average='weighted'))  )"
   ]
  },
  {
   "cell_type": "code",
   "execution_count": 152,
   "metadata": {},
   "outputs": [
    {
     "name": "stdout",
     "output_type": "stream",
     "text": [
      "[(0.6579419134794546, 'Claim Injury Type'), (0.10201408588380362, 'WCIO Cause of Injury Code'), (0.04874718467867213, 'Medical Fee Region'), (0.04113352901774244, 'County of Injury'), (0.039127358899089935, 'Carrier Type'), (0.038561492998681744, 'WCIO Part Of Body Code'), (0.025541892307568273, 'WCIO Nature of Injury Code'), (0.024032810803647744, 'District Name'), (0.019283663315646748, 'Gender'), (0.0019061649859504048, 'Accident'), (0.0017099036297423022, 'Occupational Disease')]\n"
     ]
    }
   ],
   "source": [
    "importances = clf.feature_importances_\n",
    "feature_importance = sorted(zip(importances, list(X_train)), reverse=True)\n",
    "print (feature_importance)"
   ]
  },
  {
   "cell_type": "code",
   "execution_count": 153,
   "metadata": {},
   "outputs": [
    {
     "data": {
      "text/plain": [
       "0.7654938053011692"
      ]
     },
     "execution_count": 153,
     "metadata": {},
     "output_type": "execute_result"
    }
   ],
   "source": [
    "from sklearn.metrics import roc_curve, auc\n",
    "\n",
    "false_positive_rate, true_positive_rate, thresholds = roc_curve(y_test, y_pred_dt)\n",
    "roc_auc = auc(false_positive_rate, true_positive_rate)\n",
    "roc_auc"
   ]
  },
  {
   "cell_type": "markdown",
   "metadata": {},
   "source": [
    "## Default Random Forest "
   ]
  },
  {
   "cell_type": "code",
   "execution_count": 154,
   "metadata": {},
   "outputs": [
    {
     "data": {
      "text/plain": [
       "RandomForestClassifier(bootstrap=True, class_weight=None, criterion='gini',\n",
       "            max_depth=None, max_features='auto', max_leaf_nodes=None,\n",
       "            min_impurity_decrease=0.0, min_impurity_split=None,\n",
       "            min_samples_leaf=1, min_samples_split=2,\n",
       "            min_weight_fraction_leaf=0.0, n_estimators=10, n_jobs=None,\n",
       "            oob_score=False, random_state=None, verbose=0,\n",
       "            warm_start=False)"
      ]
     },
     "execution_count": 154,
     "metadata": {},
     "output_type": "execute_result"
    }
   ],
   "source": [
    "rand = RandomForestClassifier()\n",
    "rand.fit(x_train_sm, y_train_sm)\n"
   ]
  },
  {
   "cell_type": "code",
   "execution_count": 155,
   "metadata": {},
   "outputs": [
    {
     "data": {
      "text/plain": [
       "array([0.87066283, 0.90214053, 0.91842279])"
      ]
     },
     "execution_count": 155,
     "metadata": {},
     "output_type": "execute_result"
    }
   ],
   "source": [
    "cross_val_score(rand, x_train_sm, y_train_sm, cv=3, scoring='roc_auc')"
   ]
  },
  {
   "cell_type": "code",
   "execution_count": 156,
   "metadata": {},
   "outputs": [],
   "source": [
    "y_pred_rf = rand.predict(X_test)"
   ]
  },
  {
   "cell_type": "code",
   "execution_count": 108,
   "metadata": {},
   "outputs": [
    {
     "name": "stdout",
     "output_type": "stream",
     "text": [
      "F1 for rf :0.6677500862377995\n",
      "Precison for rf :0.6905947137225025\n",
      "Recall for rf :0.6580727421320165\n"
     ]
    }
   ],
   "source": [
    "print(\"F1 for rf :\" + str(f1_score(y_test, y_pred_rf, average='weighted')))\n",
    "print(\"Precison for rf :\" + str(precision_score(y_test, y_pred_rf,average='weighted')))\n",
    "print(\"Recall for rf :\" + str(recall_score(y_test, y_pred_rf,average='weighted'))  )"
   ]
  },
  {
   "cell_type": "code",
   "execution_count": 157,
   "metadata": {},
   "outputs": [
    {
     "name": "stdout",
     "output_type": "stream",
     "text": [
      "[(0.6346637023338055, 'Claim Injury Type'), (0.060085019255110964, 'WCIO Cause of Injury Code'), (0.05644186585846175, 'WCIO Part Of Body Code'), (0.04959182971769573, 'County of Injury'), (0.04486508230519304, 'Carrier Type'), (0.03874782008892158, 'WCIO Nature of Injury Code'), (0.038546659682542395, 'Medical Fee Region'), (0.02971336305497809, 'Gender'), (0.02571257453499603, 'District Name'), (0.011580841519588379, 'Accident'), (0.01005124164870635, 'Occupational Disease')]\n"
     ]
    }
   ],
   "source": [
    "importances = rand.feature_importances_\n",
    "feature_importance = sorted(zip(importances, list(X_train)), reverse=True)\n",
    "print (feature_importance)"
   ]
  },
  {
   "cell_type": "code",
   "execution_count": null,
   "metadata": {},
   "outputs": [],
   "source": [
    "## optimize it"
   ]
  },
  {
   "cell_type": "code",
   "execution_count": 268,
   "metadata": {},
   "outputs": [],
   "source": [
    "from sklearn.model_selection import RandomizedSearchCV\n",
    "\n",
    "# Number of trees in random forest\n",
    "n_estimators = [100, 150, 200, 250, 300,500]\n",
    "# Number of features to consider at every split\n",
    "max_features = ['sqrt', 10, 5, 3]\n",
    "# Maximum number of levels in tree\n",
    "max_depth = [100, 200, 300, 400, 500,1000]\n",
    "\n",
    "# Minimum number of samples required to split a node\n",
    "min_samples_split = [100000, 200000, 300000]\n",
    "# Minimum number of samples required at each leaf node\n",
    "#bootstrap = [True, False]\n",
    "# Create the random grid\n",
    "random_grid = {'n_estimators': n_estimators,\n",
    "               'max_features': max_features,\n",
    "               'max_depth': max_depth,\n",
    "               'min_samples_split': min_samples_split\n",
    "               }"
   ]
  },
  {
   "cell_type": "code",
   "execution_count": 269,
   "metadata": {},
   "outputs": [],
   "source": [
    "rf_random = RandomizedSearchCV(estimator = rand, param_distributions = random_grid, n_iter = 3, cv = 3, verbose=2, random_state=42)"
   ]
  },
  {
   "cell_type": "code",
   "execution_count": 270,
   "metadata": {},
   "outputs": [
    {
     "name": "stdout",
     "output_type": "stream",
     "text": [
      "Fitting 3 folds for each of 3 candidates, totalling 9 fits\n"
     ]
    },
    {
     "name": "stderr",
     "output_type": "stream",
     "text": [
      "[Parallel(n_jobs=1)]: Using backend SequentialBackend with 1 concurrent workers.\n"
     ]
    },
    {
     "name": "stdout",
     "output_type": "stream",
     "text": [
      "[CV] n_estimators=100, min_samples_split=300000, max_features=10, max_depth=200 \n",
      "[CV]  n_estimators=100, min_samples_split=300000, max_features=10, max_depth=200, total=  36.4s\n",
      "[CV] n_estimators=100, min_samples_split=300000, max_features=10, max_depth=200 \n"
     ]
    },
    {
     "name": "stderr",
     "output_type": "stream",
     "text": [
      "[Parallel(n_jobs=1)]: Done   1 out of   1 | elapsed:   40.3s remaining:    0.0s\n"
     ]
    },
    {
     "name": "stdout",
     "output_type": "stream",
     "text": [
      "[CV]  n_estimators=100, min_samples_split=300000, max_features=10, max_depth=200, total=  33.4s\n",
      "[CV] n_estimators=100, min_samples_split=300000, max_features=10, max_depth=200 \n",
      "[CV]  n_estimators=100, min_samples_split=300000, max_features=10, max_depth=200, total=  33.4s\n",
      "[CV] n_estimators=100, min_samples_split=200000, max_features=3, max_depth=500 \n",
      "[CV]  n_estimators=100, min_samples_split=200000, max_features=3, max_depth=500, total=  28.2s\n",
      "[CV] n_estimators=100, min_samples_split=200000, max_features=3, max_depth=500 \n",
      "[CV]  n_estimators=100, min_samples_split=200000, max_features=3, max_depth=500, total=  31.1s\n",
      "[CV] n_estimators=100, min_samples_split=200000, max_features=3, max_depth=500 \n",
      "[CV]  n_estimators=100, min_samples_split=200000, max_features=3, max_depth=500, total=  36.2s\n",
      "[CV] n_estimators=100, min_samples_split=100000, max_features=3, max_depth=400 \n",
      "[CV]  n_estimators=100, min_samples_split=100000, max_features=3, max_depth=400, total=  47.5s\n",
      "[CV] n_estimators=100, min_samples_split=100000, max_features=3, max_depth=400 \n",
      "[CV]  n_estimators=100, min_samples_split=100000, max_features=3, max_depth=400, total=  47.1s\n",
      "[CV] n_estimators=100, min_samples_split=100000, max_features=3, max_depth=400 \n",
      "[CV]  n_estimators=100, min_samples_split=100000, max_features=3, max_depth=400, total=  48.1s\n"
     ]
    },
    {
     "name": "stderr",
     "output_type": "stream",
     "text": [
      "[Parallel(n_jobs=1)]: Done   9 out of   9 | elapsed:  6.4min finished\n"
     ]
    },
    {
     "data": {
      "text/plain": [
       "RandomizedSearchCV(cv=3, error_score='raise-deprecating',\n",
       "          estimator=RandomForestClassifier(bootstrap=True, class_weight=None, criterion='gini',\n",
       "            max_depth=None, max_features='auto', max_leaf_nodes=None,\n",
       "            min_impurity_decrease=0.0, min_impurity_split=None,\n",
       "            min_samples_leaf=1, min_samples_split=2,\n",
       "            min_weight_fraction_leaf=0.0, n_estimators=10, n_jobs=None,\n",
       "            oob_score=False, random_state=None, verbose=0,\n",
       "            warm_start=False),\n",
       "          fit_params=None, iid='warn', n_iter=3, n_jobs=None,\n",
       "          param_distributions={'n_estimators': [100, 150, 200, 250, 300, 500], 'max_features': ['sqrt', 10, 5, 3], 'max_depth': [100, 200, 300, 400, 500, 1000], 'min_samples_split': [100000, 200000, 300000]},\n",
       "          pre_dispatch='2*n_jobs', random_state=42, refit=True,\n",
       "          return_train_score='warn', scoring=None, verbose=2)"
      ]
     },
     "execution_count": 270,
     "metadata": {},
     "output_type": "execute_result"
    }
   ],
   "source": [
    "rf_random.fit(x_train_sm, y_train_sm)"
   ]
  },
  {
   "cell_type": "code",
   "execution_count": 271,
   "metadata": {},
   "outputs": [
    {
     "data": {
      "text/plain": [
       "RandomForestClassifier(bootstrap=True, class_weight=None, criterion='gini',\n",
       "            max_depth=400, max_features=3, max_leaf_nodes=None,\n",
       "            min_impurity_decrease=0.0, min_impurity_split=None,\n",
       "            min_samples_leaf=1, min_samples_split=100000,\n",
       "            min_weight_fraction_leaf=0.0, n_estimators=100, n_jobs=None,\n",
       "            oob_score=False, random_state=None, verbose=0,\n",
       "            warm_start=False)"
      ]
     },
     "execution_count": 271,
     "metadata": {},
     "output_type": "execute_result"
    }
   ],
   "source": [
    "rf_random.best_estimator_"
   ]
  },
  {
   "cell_type": "code",
   "execution_count": 272,
   "metadata": {},
   "outputs": [],
   "source": [
    "y_pred_rf_opt = rf_random.predict(X_test)"
   ]
  },
  {
   "cell_type": "code",
   "execution_count": 124,
   "metadata": {},
   "outputs": [
    {
     "name": "stdout",
     "output_type": "stream",
     "text": [
      "F1 for rf_opt :0.6558887693895897\n",
      "Precison for rf_opt :0.6941245690421443\n",
      "Recall for rf_opt :0.6441822624826258\n"
     ]
    }
   ],
   "source": [
    "print(\"F1 for rf_opt :\" + str(f1_score(y_test, y_pred_rf_opt, average='weighted')))\n",
    "print(\"Precison for rf_opt :\" + str(precision_score(y_test, y_pred_rf_opt,average='weighted')))\n",
    "print(\"Recall for rf_opt :\" + str(recall_score(y_test, y_pred_rf_opt,average='weighted'))  )"
   ]
  },
  {
   "cell_type": "code",
   "execution_count": 179,
   "metadata": {},
   "outputs": [],
   "source": [
    "def setval(y_pred_):\n",
    "    for i in range(len(y_pred)):\n",
    "        if(y_pred_[i][0] >= 0.6) :\n",
    "            y_pred_[i][0] = 1\n",
    "            y_pred_[i][1] = 0\n",
    "        else :\n",
    "            y_pred_[i][0] = 0\n",
    "            y_pred_[i][1] = 1\n",
    "    return y_pred_"
   ]
  },
  {
   "cell_type": "markdown",
   "metadata": {},
   "source": [
    "## AUC  for RF"
   ]
  },
  {
   "cell_type": "code",
   "execution_count": 183,
   "metadata": {},
   "outputs": [
    {
     "data": {
      "text/plain": [
       "0.78"
      ]
     },
     "execution_count": 183,
     "metadata": {},
     "output_type": "execute_result"
    }
   ],
   "source": [
    "from sklearn.metrics import roc_curve, auc\n",
    "\n",
    "false_positive_rate, true_positive_rate, thresholds = roc_curve(y_test, y_pred_rf)\n",
    "roc_auc_randomForest_test = round(auc(false_positive_rate, true_positive_rate),2)\n",
    "roc_auc_randomForest_test"
   ]
  },
  {
   "cell_type": "code",
   "execution_count": 111,
   "metadata": {},
   "outputs": [
    {
     "data": {
      "text/plain": [
       "0.6349172190579624"
      ]
     },
     "execution_count": 111,
     "metadata": {},
     "output_type": "execute_result"
    }
   ],
   "source": []
  },
  {
   "cell_type": "code",
   "execution_count": 273,
   "metadata": {},
   "outputs": [
    {
     "data": {
      "text/plain": [
       "0.77"
      ]
     },
     "execution_count": 273,
     "metadata": {},
     "output_type": "execute_result"
    }
   ],
   "source": [
    "from sklearn.metrics import roc_curve, auc\n",
    "\n",
    "false_positive_rate, true_positive_rate, thresholds = roc_curve(y_test, y_pred_rf_opt)\n",
    "roc_auc_rf_opt_test = round(auc(false_positive_rate, true_positive_rate),2)\n",
    "roc_auc_rf_opt_test"
   ]
  },
  {
   "cell_type": "code",
   "execution_count": 184,
   "metadata": {},
   "outputs": [
    {
     "data": {
      "text/plain": [
       "0.77"
      ]
     },
     "execution_count": 184,
     "metadata": {},
     "output_type": "execute_result"
    }
   ],
   "source": [
    "from sklearn.metrics import roc_curve, auc\n",
    "\n",
    "false_positive_rate, true_positive_rate, thresholds = roc_curve(y_test, y_pred_dt)\n",
    "roc_auc_dt_test = round(auc(false_positive_rate, true_positive_rate),2)\n",
    "roc_auc_dt_test"
   ]
  },
  {
   "cell_type": "markdown",
   "metadata": {},
   "source": [
    "### AUC training "
   ]
  },
  {
   "cell_type": "code",
   "execution_count": 186,
   "metadata": {},
   "outputs": [
    {
     "data": {
      "text/plain": [
       "0.85"
      ]
     },
     "execution_count": 186,
     "metadata": {},
     "output_type": "execute_result"
    }
   ],
   "source": [
    "from sklearn.metrics import roc_curve, auc\n",
    "\n",
    "false_positive_rate, true_positive_rate, thresholds = roc_curve(y_train_sm, clf.predict(x_train_sm))\n",
    "roc_auc_dt_train = round(auc(false_positive_rate, true_positive_rate),2)\n",
    "roc_auc_dt_train"
   ]
  },
  {
   "cell_type": "code",
   "execution_count": 192,
   "metadata": {},
   "outputs": [
    {
     "data": {
      "text/plain": [
       "0.84"
      ]
     },
     "execution_count": 192,
     "metadata": {},
     "output_type": "execute_result"
    }
   ],
   "source": [
    "from sklearn.metrics import roc_curve, auc\n",
    "\n",
    "false_positive_rate, true_positive_rate, thresholds = roc_curve(y_train_sm, rand.predict(x_train_sm))\n",
    "roc_auc_rand_train = round(auc(false_positive_rate, true_positive_rate),2)\n",
    "roc_auc_rand"
   ]
  },
  {
   "cell_type": "code",
   "execution_count": 193,
   "metadata": {},
   "outputs": [
    {
     "data": {
      "text/plain": [
       "0.79"
      ]
     },
     "execution_count": 193,
     "metadata": {},
     "output_type": "execute_result"
    }
   ],
   "source": [
    "from sklearn.metrics import roc_curve, auc\n",
    "\n",
    "false_positive_rate, true_positive_rate, thresholds = roc_curve(y_train_sm, rf_random.predict(x_train_sm))\n",
    "roc_auc_rf_opt_train = round(auc(false_positive_rate, true_positive_rate), 2)\n",
    "roc_auc_rf_opt"
   ]
  },
  {
   "cell_type": "code",
   "execution_count": null,
   "metadata": {},
   "outputs": [],
   "source": [
    "# y_pred = rf_random.predict(X_test)"
   ]
  },
  {
   "cell_type": "code",
   "execution_count": 135,
   "metadata": {},
   "outputs": [
    {
     "data": {
      "text/plain": [
       "array([1, 1, 0, ..., 0, 1, 0], dtype=int64)"
      ]
     },
     "execution_count": 135,
     "metadata": {},
     "output_type": "execute_result"
    }
   ],
   "source": [
    "y_pred"
   ]
  },
  {
   "cell_type": "markdown",
   "metadata": {},
   "source": [
    "## ROC for training "
   ]
  },
  {
   "cell_type": "code",
   "execution_count": 194,
   "metadata": {},
   "outputs": [
    {
     "data": {
      "image/png": "[encoded data removed]",
      "text/plain": [
       "<matplotlib.figure.Figure at 0x2782628cf98>"
      ]
     },
     "metadata": {},
     "output_type": "display_data"
    }
   ],
   "source": [
    "# Create ROC Graph\n",
    "from sklearn.metrics import roc_curve\n",
    "import matplotlib.pyplot as plt\n",
    "fpr, tpr, thresholds = roc_curve(y_train_sm, rand.predict_proba(x_train_sm)[:,1])\n",
    "rf_fpr, rf_tpr, rf_thresholds = roc_curve(y_train_sm, clf.predict_proba(x_train_sm)[:,1])\n",
    "rfop_fpr, rfop_tpr, rfop_thresholds = roc_curve(y_train_sm, rf_random.predict_proba(x_train_sm)[:,1])\n",
    "#lr_fpr, lr_tpr, lr_thresholds = roc_curve(y_test, logistic.predict_proba(X_test)[:,1])\n",
    "\n",
    "plt.figure()\n",
    "\n",
    "# Plot Decions Tree ROC\n",
    "plt.plot(rf_fpr, rf_tpr, label='Decision Tree Classifier - AUC{}'.format(roc_auc_dt_train))\n",
    "\n",
    "# Plot Random ROC\n",
    "plt.plot(fpr, tpr, label='Random Forest - AUC{}'.format(roc_auc_rand_train))\n",
    "\n",
    "# Plot Tuned Random ROC\n",
    "plt.plot(rfop_fpr, rfop_tpr, label='Tuned Random Forest- AUC{}'.format(roc_auc_rf_opt_train))\n",
    "\n",
    "\n",
    "# Plot Base Rate ROC\n",
    "plt.plot([0,1], [0,1],label='Base line')\n",
    "\n",
    "plt.xlim([0.0, 1.0])\n",
    "plt.ylim([0.0, 1.05])\n",
    "plt.xlabel('False Positive Rate')\n",
    "plt.ylabel('True Positive Rate')\n",
    "plt.title('Training data - ROC Graph')\n",
    "plt.legend(loc=\"lower right\")\n",
    "plt.show()"
   ]
  },
  {
   "cell_type": "markdown",
   "metadata": {},
   "source": [
    "### ROC test"
   ]
  },
  {
   "cell_type": "code",
   "execution_count": 185,
   "metadata": {},
   "outputs": [
    {
     "data": {
      "image/png": "[encoded data removed]",
      "text/plain": [
       "<matplotlib.figure.Figure at 0x27823c89c88>"
      ]
     },
     "metadata": {},
     "output_type": "display_data"
    }
   ],
   "source": [
    "# Create ROC Graph\n",
    "from sklearn.metrics import roc_curve\n",
    "import matplotlib.pyplot as plt\n",
    "fpr, tpr, thresholds = roc_curve(y_test, rand.predict_proba(X_test)[:,1])\n",
    "rf_fpr, rf_tpr, rf_thresholds = roc_curve(y_test, clf.predict_proba(X_test)[:,1])\n",
    "rfop_fpr, rfop_tpr, rfop_thresholds = roc_curve(y_test, rf_random.predict_proba(X_test)[:,1])\n",
    "\n",
    "#lr_fpr, lr_tpr, lr_thresholds = roc_curve(y_test, logistic.predict_proba(X_test)[:,1])\n",
    "\n",
    "plt.figure()\n",
    "\n",
    "# Plot Logistic Regression ROC\n",
    "plt.plot(fpr, tpr, label='Random Forest - AUC {}'.format(roc_auc_randomForest_test) )\n",
    "\n",
    "# Plot Random Forest ROC\n",
    "plt.plot(rf_fpr, rf_tpr, label='Decision Tree Classifier - AUC {}'.format(roc_auc_dt_test) )\n",
    "\n",
    "# Plot Tuned Random ROC\n",
    "plt.plot(rfop_fpr, rfop_tpr, label='Tuned Random Forest - AUC {}'.format(roc_auc_rf_opt_test) )\n",
    "\n",
    "# Plot Base Rate ROC\n",
    "plt.plot([0,1], [0,1],label='Base line')\n",
    "\n",
    "plt.xlim([0.0, 1.0])\n",
    "plt.ylim([0.0, 1.05])\n",
    "plt.xlabel('False Positive Rate')\n",
    "plt.ylabel('True Positive Rate')\n",
    "plt.title('ROC Graph')\n",
    "plt.legend(loc=\"lower right\")\n",
    "plt.show()"
   ]
  },
  {
   "cell_type": "markdown",
   "metadata": {},
   "source": [
    "### optimize "
   ]
  },
  {
   "cell_type": "code",
   "execution_count": 140,
   "metadata": {},
   "outputs": [],
   "source": [
    "from sklearn.ensemble.partial_dependence import partial_dependence, plot_partial_dependence"
   ]
  },
  {
   "cell_type": "code",
   "execution_count": 143,
   "metadata": {},
   "outputs": [
    {
     "name": "stdout",
     "output_type": "stream",
     "text": [
      "[(0.5399107150767449, 'injury age'), (0.1686578867250067, 'WCIO Nature of Injury Code'), (0.13038492738235224, 'WCIO Part Of Body Code'), (0.09943910422090863, 'Medical Fee Region'), (0.03821805627477889, 'Gender'), (0.019353171790842307, 'Carrier Type'), (0.004036138529366162, 'County of Injury'), (0.0, 'Occupational Disease')]\n"
     ]
    }
   ],
   "source": [
    "importances = rf_random.best_estimator_.feature_importances_\n",
    "feature_importance = sorted(zip(importances, list(X_test)), reverse=True)\n",
    "print (feature_importance)"
   ]
  },
  {
   "cell_type": "code",
   "execution_count": 189,
   "metadata": {},
   "outputs": [],
   "source": [
    "output = pd.DataFrame( columns ={'Claim Identifier' ,'WCIO Part Of Body Code','WCIO Nature of Injury Code','Gender','Medical Fee Region','Carrier Type','Occupational Disease','County of Injury','probability'})"
   ]
  },
  {
   "cell_type": "code",
   "execution_count": 206,
   "metadata": {},
   "outputs": [],
   "source": [
    "output['Carrier Type'] =['1A. PRIVATE', '2.SIF', '1A. PRIVATE']"
   ]
  },
  {
   "cell_type": "code",
   "execution_count": 207,
   "metadata": {},
   "outputs": [
    {
     "data": {
      "text/html": [
       "<div>\n",
       "<style scoped>\n",
       "    .dataframe tbody tr th:only-of-type {\n",
       "        vertical-align: middle;\n",
       "    }\n",
       "\n",
       "    .dataframe tbody tr th {\n",
       "        vertical-align: top;\n",
       "    }\n",
       "\n",
       "    .dataframe thead th {\n",
       "        text-align: right;\n",
       "    }\n",
       "</style>\n",
       "<table border=\"1\" class=\"dataframe\">\n",
       "  <thead>\n",
       "    <tr style=\"text-align: right;\">\n",
       "      <th></th>\n",
       "      <th>WCIO Part Of Body Code</th>\n",
       "      <th>probability</th>\n",
       "      <th>Gender</th>\n",
       "      <th>County of Injury</th>\n",
       "      <th>Medical Fee Region</th>\n",
       "      <th>Claim Identifier</th>\n",
       "      <th>WCIO Nature of Injury Code</th>\n",
       "      <th>Occupational Disease</th>\n",
       "      <th>Carrier Type</th>\n",
       "    </tr>\n",
       "  </thead>\n",
       "  <tbody>\n",
       "    <tr>\n",
       "      <th>0</th>\n",
       "      <td>59</td>\n",
       "      <td>0.92</td>\n",
       "      <td>1</td>\n",
       "      <td>ERIE</td>\n",
       "      <td>2</td>\n",
       "      <td>4037088</td>\n",
       "      <td>30</td>\n",
       "      <td>N</td>\n",
       "      <td>1A. PRIVATE</td>\n",
       "    </tr>\n",
       "    <tr>\n",
       "      <th>1</th>\n",
       "      <td>52</td>\n",
       "      <td>0.49</td>\n",
       "      <td>0</td>\n",
       "      <td>ALBANY</td>\n",
       "      <td>2</td>\n",
       "      <td>4037091</td>\n",
       "      <td>25</td>\n",
       "      <td>N</td>\n",
       "      <td>2.SIF</td>\n",
       "    </tr>\n",
       "    <tr>\n",
       "      <th>2</th>\n",
       "      <td>52</td>\n",
       "      <td>0.63</td>\n",
       "      <td>1</td>\n",
       "      <td>QUEENS</td>\n",
       "      <td>3</td>\n",
       "      <td>4037093</td>\n",
       "      <td>25</td>\n",
       "      <td>N</td>\n",
       "      <td>1A. PRIVATE</td>\n",
       "    </tr>\n",
       "  </tbody>\n",
       "</table>\n",
       "</div>"
      ],
      "text/plain": [
       "   WCIO Part Of Body Code probability  Gender County of Injury  \\\n",
       "0                      59        0.92       1             ERIE   \n",
       "1                      52        0.49       0           ALBANY   \n",
       "2                      52        0.63       1           QUEENS   \n",
       "\n",
       "  Medical Fee Region  Claim Identifier  WCIO Nature of Injury Code  \\\n",
       "0                  2           4037088                          30   \n",
       "1                  2           4037091                          25   \n",
       "2                  3           4037093                          25   \n",
       "\n",
       "  Occupational Disease Carrier Type  \n",
       "0                    N  1A. PRIVATE  \n",
       "1                    N        2.SIF  \n",
       "2                    N  1A. PRIVATE  "
      ]
     },
     "execution_count": 207,
     "metadata": {},
     "output_type": "execute_result"
    }
   ],
   "source": [
    "output"
   ]
  },
  {
   "cell_type": "code",
   "execution_count": 201,
   "metadata": {},
   "outputs": [
    {
     "data": {
      "text/plain": [
       "Index(['WCIO Part Of Body Code', 'WCIO Nature of Injury Code',\n",
       "       'WCIO Cause of Injury Code', 'District Name', 'Gender',\n",
       "       'Medical Fee Region', 'Carrier Type', 'Occupational Disease',\n",
       "       'Accident', 'County of Injury', 'Claim Injury Type'],\n",
       "      dtype='object')"
      ]
     },
     "execution_count": 201,
     "metadata": {},
     "output_type": "execute_result"
    }
   ],
   "source": [
    "X_test.columns"
   ]
  },
  {
   "cell_type": "code",
   "execution_count": 162,
   "metadata": {},
   "outputs": [
    {
     "data": {
      "text/plain": [
       "RandomForestClassifier(bootstrap=True, class_weight=None, criterion='gini',\n",
       "            max_depth=500, max_features='sqrt', max_leaf_nodes=None,\n",
       "            min_impurity_decrease=0.0, min_impurity_split=None,\n",
       "            min_samples_leaf=50000, min_samples_split=100000,\n",
       "            min_weight_fraction_leaf=0.0, n_estimators=100, n_jobs=None,\n",
       "            oob_score=False, random_state=None, verbose=0,\n",
       "            warm_start=False)"
      ]
     },
     "execution_count": 162,
     "metadata": {},
     "output_type": "execute_result"
    }
   ],
   "source": [
    "rf_random.best_estimator_"
   ]
  },
  {
   "cell_type": "code",
   "execution_count": 195,
   "metadata": {},
   "outputs": [
    {
     "data": {
      "text/plain": [
       "<matplotlib.axes._subplots.AxesSubplot at 0x2782637b400>"
      ]
     },
     "execution_count": 195,
     "metadata": {},
     "output_type": "execute_result"
    },
    {
     "data": {
      "image/png": "[encoded data removed]",
      "text/plain": [
       "<matplotlib.figure.Figure at 0x27823f99eb8>"
      ]
     },
     "metadata": {},
     "output_type": "display_data"
    }
   ],
   "source": [
    "feat_importances = pd.Series(rf_random.best_estimator_.feature_importances_, index=X_test.columns)\n",
    "feat_importances.nlargest(8).plot(kind='bar')"
   ]
  },
  {
   "cell_type": "code",
   "execution_count": 141,
   "metadata": {},
   "outputs": [
    {
     "data": {
      "text/plain": [
       "<matplotlib.axes._subplots.AxesSubplot at 0x27780fc16a0>"
      ]
     },
     "execution_count": 141,
     "metadata": {},
     "output_type": "execute_result"
    },
    {
     "data": {
      "image/png": "[encoded data removed]",
      "text/plain": [
       "<matplotlib.figure.Figure at 0x2782604da20>"
      ]
     },
     "metadata": {},
     "output_type": "display_data"
    }
   ],
   "source": [
    "feat_importances = pd.Series(rand.feature_importances_, index=X_test.columns)\n",
    "feat_importances.nlargest(5).plot(kind='bar')"
   ]
  },
  {
   "cell_type": "code",
   "execution_count": 251,
   "metadata": {},
   "outputs": [],
   "source": [
    "import pdpbox\n",
    "from pdpbox import pdp\n",
    "from partial_dependence import PartialDependenceExplainer"
   ]
  },
  {
   "cell_type": "code",
   "execution_count": 198,
   "metadata": {},
   "outputs": [],
   "source": [
    "import partial_dependence as pdp_plot\n",
    "#pdp_pedi_insul = pdp.pdp_isolate(my_model, data, ['injury age'], feature='injury age')\n",
    "#pdp.pdp_interact_plot(my_model, ['injury age'], center=True, plot_org_pts=True, plot_lines=True, frac_to_plot=0.5)"
   ]
  },
  {
   "cell_type": "code",
   "execution_count": 199,
   "metadata": {},
   "outputs": [],
   "source": [
    "df_test = X_test\n",
    "model = rf_random\n",
    "labels_name = ['Attorney/Representative']\n",
    "label_focus = labels_name[0]"
   ]
  },
  {
   "cell_type": "code",
   "execution_count": 200,
   "metadata": {},
   "outputs": [
    {
     "ename": "KeyboardInterrupt",
     "evalue": "",
     "output_type": "error",
     "traceback": [
      "\u001b[1;31m---------------------------------------------------------------------------\u001b[0m",
      "\u001b[1;31mKeyboardInterrupt\u001b[0m                         Traceback (most recent call last)",
      "\u001b[1;32m<ipython-input-200-8486dd1e3089>\u001b[0m in \u001b[0;36m<module>\u001b[1;34m()\u001b[0m\n\u001b[1;32m----> 1\u001b[1;33m \u001b[0mpdp_wrkc\u001b[0m \u001b[1;33m=\u001b[0m \u001b[0mpdp_plot\u001b[0m\u001b[1;33m.\u001b[0m\u001b[0mPartialDependence\u001b[0m\u001b[1;33m(\u001b[0m\u001b[0mdf_test\u001b[0m\u001b[1;33m,\u001b[0m\u001b[0mmodel\u001b[0m\u001b[1;33m,\u001b[0m\u001b[0mlabels_name\u001b[0m\u001b[1;33m,\u001b[0m\u001b[0mlabel_focus\u001b[0m\u001b[1;33m)\u001b[0m\u001b[1;33m\u001b[0m\u001b[0m\n\u001b[0m",
      "\u001b[1;32mc:\\users\\srikuchaitu\\anaconda3\\lib\\site-packages\\partial_dependence.py\u001b[0m in \u001b[0;36m__init__\u001b[1;34m(self, df_test, model, class_array, class_focus, num_samples, scale, shift)\u001b[0m\n\u001b[0;32m    470\u001b[0m         \u001b[0mself\u001b[0m\u001b[1;33m.\u001b[0m\u001b[0mshft\u001b[0m \u001b[1;33m=\u001b[0m \u001b[0mshift\u001b[0m\u001b[1;33m\u001b[0m\u001b[0m\n\u001b[0;32m    471\u001b[0m \u001b[1;33m\u001b[0m\u001b[0m\n\u001b[1;32m--> 472\u001b[1;33m         \u001b[0mself\u001b[0m\u001b[1;33m.\u001b[0m\u001b[0m_compute_sampling\u001b[0m\u001b[1;33m(\u001b[0m\u001b[1;33m)\u001b[0m\u001b[1;33m\u001b[0m\u001b[0m\n\u001b[0m\u001b[0;32m    473\u001b[0m \u001b[1;33m\u001b[0m\u001b[0m\n\u001b[0;32m    474\u001b[0m     \u001b[1;32mdef\u001b[0m \u001b[0m_compute_sampling\u001b[0m\u001b[1;33m(\u001b[0m\u001b[0mself\u001b[0m\u001b[1;33m)\u001b[0m\u001b[1;33m:\u001b[0m\u001b[1;33m\u001b[0m\u001b[0m\n",
      "\u001b[1;32mc:\\users\\srikuchaitu\\anaconda3\\lib\\site-packages\\partial_dependence.py\u001b[0m in \u001b[0;36m_compute_sampling\u001b[1;34m(self)\u001b[0m\n\u001b[0;32m    506\u001b[0m             \u001b[0mx_array\u001b[0m \u001b[1;33m=\u001b[0m \u001b[1;33m(\u001b[0m\u001b[0mx_array\u001b[0m \u001b[1;33m+\u001b[0m \u001b[0mshift\u001b[0m\u001b[1;33m)\u001b[0m \u001b[1;33m*\u001b[0m \u001b[0mscale\u001b[0m\u001b[1;33m\u001b[0m\u001b[0m\n\u001b[0;32m    507\u001b[0m \u001b[1;33m\u001b[0m\u001b[0m\n\u001b[1;32m--> 508\u001b[1;33m         \u001b[0mpred\u001b[0m \u001b[1;33m=\u001b[0m \u001b[0mmodel\u001b[0m\u001b[1;33m.\u001b[0m\u001b[0mpredict_proba\u001b[0m\u001b[1;33m(\u001b[0m\u001b[0mx_array\u001b[0m\u001b[1;33m)\u001b[0m\u001b[1;33m\u001b[0m\u001b[0m\n\u001b[0m\u001b[0;32m    509\u001b[0m         \u001b[0moriginal_preds\u001b[0m \u001b[1;33m=\u001b[0m \u001b[0mnp\u001b[0m\u001b[1;33m.\u001b[0m\u001b[0marray\u001b[0m\u001b[1;33m(\u001b[0m\u001b[1;33m[\u001b[0m \u001b[0mx\u001b[0m\u001b[1;33m[\u001b[0m\u001b[0mdata_set_pred_index\u001b[0m\u001b[1;33m]\u001b[0m \u001b[1;32mfor\u001b[0m \u001b[0mx\u001b[0m \u001b[1;32min\u001b[0m \u001b[0mpred\u001b[0m \u001b[1;33m]\u001b[0m\u001b[1;33m)\u001b[0m\u001b[1;33m\u001b[0m\u001b[0m\n\u001b[0;32m    510\u001b[0m         \u001b[1;31m#thresh = get_roc_curve(original_preds,labs)[\"score\"]\u001b[0m\u001b[1;33m\u001b[0m\u001b[1;33m\u001b[0m\u001b[0m\n",
      "\u001b[1;32mc:\\users\\srikuchaitu\\anaconda3\\lib\\site-packages\\sklearn\\utils\\metaestimators.py\u001b[0m in \u001b[0;36m<lambda>\u001b[1;34m(*args, **kwargs)\u001b[0m\n\u001b[0;32m    116\u001b[0m \u001b[1;33m\u001b[0m\u001b[0m\n\u001b[0;32m    117\u001b[0m         \u001b[1;31m# lambda, but not partial, allows help() to work with update_wrapper\u001b[0m\u001b[1;33m\u001b[0m\u001b[1;33m\u001b[0m\u001b[0m\n\u001b[1;32m--> 118\u001b[1;33m         \u001b[0mout\u001b[0m \u001b[1;33m=\u001b[0m \u001b[1;32mlambda\u001b[0m \u001b[1;33m*\u001b[0m\u001b[0margs\u001b[0m\u001b[1;33m,\u001b[0m \u001b[1;33m**\u001b[0m\u001b[0mkwargs\u001b[0m\u001b[1;33m:\u001b[0m \u001b[0mself\u001b[0m\u001b[1;33m.\u001b[0m\u001b[0mfn\u001b[0m\u001b[1;33m(\u001b[0m\u001b[0mobj\u001b[0m\u001b[1;33m,\u001b[0m \u001b[1;33m*\u001b[0m\u001b[0margs\u001b[0m\u001b[1;33m,\u001b[0m \u001b[1;33m**\u001b[0m\u001b[0mkwargs\u001b[0m\u001b[1;33m)\u001b[0m\u001b[1;33m\u001b[0m\u001b[0m\n\u001b[0m\u001b[0;32m    119\u001b[0m         \u001b[1;31m# update the docstring of the returned function\u001b[0m\u001b[1;33m\u001b[0m\u001b[1;33m\u001b[0m\u001b[0m\n\u001b[0;32m    120\u001b[0m         \u001b[0mupdate_wrapper\u001b[0m\u001b[1;33m(\u001b[0m\u001b[0mout\u001b[0m\u001b[1;33m,\u001b[0m \u001b[0mself\u001b[0m\u001b[1;33m.\u001b[0m\u001b[0mfn\u001b[0m\u001b[1;33m)\u001b[0m\u001b[1;33m\u001b[0m\u001b[0m\n",
      "\u001b[1;32mc:\\users\\srikuchaitu\\anaconda3\\lib\\site-packages\\sklearn\\model_selection\\_search.py\u001b[0m in \u001b[0;36mpredict_proba\u001b[1;34m(self, X)\u001b[0m\n\u001b[0;32m    506\u001b[0m         \"\"\"\n\u001b[0;32m    507\u001b[0m         \u001b[0mself\u001b[0m\u001b[1;33m.\u001b[0m\u001b[0m_check_is_fitted\u001b[0m\u001b[1;33m(\u001b[0m\u001b[1;34m'predict_proba'\u001b[0m\u001b[1;33m)\u001b[0m\u001b[1;33m\u001b[0m\u001b[0m\n\u001b[1;32m--> 508\u001b[1;33m         \u001b[1;32mreturn\u001b[0m \u001b[0mself\u001b[0m\u001b[1;33m.\u001b[0m\u001b[0mbest_estimator_\u001b[0m\u001b[1;33m.\u001b[0m\u001b[0mpredict_proba\u001b[0m\u001b[1;33m(\u001b[0m\u001b[0mX\u001b[0m\u001b[1;33m)\u001b[0m\u001b[1;33m\u001b[0m\u001b[0m\n\u001b[0m\u001b[0;32m    509\u001b[0m \u001b[1;33m\u001b[0m\u001b[0m\n\u001b[0;32m    510\u001b[0m     \u001b[1;33m@\u001b[0m\u001b[0mif_delegate_has_method\u001b[0m\u001b[1;33m(\u001b[0m\u001b[0mdelegate\u001b[0m\u001b[1;33m=\u001b[0m\u001b[1;33m(\u001b[0m\u001b[1;34m'best_estimator_'\u001b[0m\u001b[1;33m,\u001b[0m \u001b[1;34m'estimator'\u001b[0m\u001b[1;33m)\u001b[0m\u001b[1;33m)\u001b[0m\u001b[1;33m\u001b[0m\u001b[0m\n",
      "\u001b[1;32mc:\\users\\srikuchaitu\\anaconda3\\lib\\site-packages\\sklearn\\ensemble\\forest.py\u001b[0m in \u001b[0;36mpredict_proba\u001b[1;34m(self, X)\u001b[0m\n\u001b[0;32m    594\u001b[0m             delayed(_accumulate_prediction)(e.predict_proba, X, all_proba,\n\u001b[0;32m    595\u001b[0m                                             lock)\n\u001b[1;32m--> 596\u001b[1;33m             for e in self.estimators_)\n\u001b[0m\u001b[0;32m    597\u001b[0m \u001b[1;33m\u001b[0m\u001b[0m\n\u001b[0;32m    598\u001b[0m         \u001b[1;32mfor\u001b[0m \u001b[0mproba\u001b[0m \u001b[1;32min\u001b[0m \u001b[0mall_proba\u001b[0m\u001b[1;33m:\u001b[0m\u001b[1;33m\u001b[0m\u001b[0m\n",
      "\u001b[1;32mc:\\users\\srikuchaitu\\anaconda3\\lib\\site-packages\\sklearn\\externals\\joblib\\parallel.py\u001b[0m in \u001b[0;36m__call__\u001b[1;34m(self, iterable)\u001b[0m\n\u001b[0;32m    918\u001b[0m                 \u001b[0mself\u001b[0m\u001b[1;33m.\u001b[0m\u001b[0m_iterating\u001b[0m \u001b[1;33m=\u001b[0m \u001b[0mself\u001b[0m\u001b[1;33m.\u001b[0m\u001b[0m_original_iterator\u001b[0m \u001b[1;32mis\u001b[0m \u001b[1;32mnot\u001b[0m \u001b[1;32mNone\u001b[0m\u001b[1;33m\u001b[0m\u001b[0m\n\u001b[0;32m    919\u001b[0m \u001b[1;33m\u001b[0m\u001b[0m\n\u001b[1;32m--> 920\u001b[1;33m             \u001b[1;32mwhile\u001b[0m \u001b[0mself\u001b[0m\u001b[1;33m.\u001b[0m\u001b[0mdispatch_one_batch\u001b[0m\u001b[1;33m(\u001b[0m\u001b[0miterator\u001b[0m\u001b[1;33m)\u001b[0m\u001b[1;33m:\u001b[0m\u001b[1;33m\u001b[0m\u001b[0m\n\u001b[0m\u001b[0;32m    921\u001b[0m                 \u001b[1;32mpass\u001b[0m\u001b[1;33m\u001b[0m\u001b[0m\n\u001b[0;32m    922\u001b[0m \u001b[1;33m\u001b[0m\u001b[0m\n",
      "\u001b[1;32mc:\\users\\srikuchaitu\\anaconda3\\lib\\site-packages\\sklearn\\externals\\joblib\\parallel.py\u001b[0m in \u001b[0;36mdispatch_one_batch\u001b[1;34m(self, iterator)\u001b[0m\n\u001b[0;32m    757\u001b[0m                 \u001b[1;32mreturn\u001b[0m \u001b[1;32mFalse\u001b[0m\u001b[1;33m\u001b[0m\u001b[0m\n\u001b[0;32m    758\u001b[0m             \u001b[1;32melse\u001b[0m\u001b[1;33m:\u001b[0m\u001b[1;33m\u001b[0m\u001b[0m\n\u001b[1;32m--> 759\u001b[1;33m                 \u001b[0mself\u001b[0m\u001b[1;33m.\u001b[0m\u001b[0m_dispatch\u001b[0m\u001b[1;33m(\u001b[0m\u001b[0mtasks\u001b[0m\u001b[1;33m)\u001b[0m\u001b[1;33m\u001b[0m\u001b[0m\n\u001b[0m\u001b[0;32m    760\u001b[0m                 \u001b[1;32mreturn\u001b[0m \u001b[1;32mTrue\u001b[0m\u001b[1;33m\u001b[0m\u001b[0m\n\u001b[0;32m    761\u001b[0m \u001b[1;33m\u001b[0m\u001b[0m\n",
      "\u001b[1;32mc:\\users\\srikuchaitu\\anaconda3\\lib\\site-packages\\sklearn\\externals\\joblib\\parallel.py\u001b[0m in \u001b[0;36m_dispatch\u001b[1;34m(self, batch)\u001b[0m\n\u001b[0;32m    714\u001b[0m         \u001b[1;32mwith\u001b[0m \u001b[0mself\u001b[0m\u001b[1;33m.\u001b[0m\u001b[0m_lock\u001b[0m\u001b[1;33m:\u001b[0m\u001b[1;33m\u001b[0m\u001b[0m\n\u001b[0;32m    715\u001b[0m             \u001b[0mjob_idx\u001b[0m \u001b[1;33m=\u001b[0m \u001b[0mlen\u001b[0m\u001b[1;33m(\u001b[0m\u001b[0mself\u001b[0m\u001b[1;33m.\u001b[0m\u001b[0m_jobs\u001b[0m\u001b[1;33m)\u001b[0m\u001b[1;33m\u001b[0m\u001b[0m\n\u001b[1;32m--> 716\u001b[1;33m             \u001b[0mjob\u001b[0m \u001b[1;33m=\u001b[0m \u001b[0mself\u001b[0m\u001b[1;33m.\u001b[0m\u001b[0m_backend\u001b[0m\u001b[1;33m.\u001b[0m\u001b[0mapply_async\u001b[0m\u001b[1;33m(\u001b[0m\u001b[0mbatch\u001b[0m\u001b[1;33m,\u001b[0m \u001b[0mcallback\u001b[0m\u001b[1;33m=\u001b[0m\u001b[0mcb\u001b[0m\u001b[1;33m)\u001b[0m\u001b[1;33m\u001b[0m\u001b[0m\n\u001b[0m\u001b[0;32m    717\u001b[0m             \u001b[1;31m# A job can complete so quickly than its callback is\u001b[0m\u001b[1;33m\u001b[0m\u001b[1;33m\u001b[0m\u001b[0m\n\u001b[0;32m    718\u001b[0m             \u001b[1;31m# called before we get here, causing self._jobs to\u001b[0m\u001b[1;33m\u001b[0m\u001b[1;33m\u001b[0m\u001b[0m\n",
      "\u001b[1;32mc:\\users\\srikuchaitu\\anaconda3\\lib\\site-packages\\sklearn\\externals\\joblib\\_parallel_backends.py\u001b[0m in \u001b[0;36mapply_async\u001b[1;34m(self, func, callback)\u001b[0m\n\u001b[0;32m    180\u001b[0m     \u001b[1;32mdef\u001b[0m \u001b[0mapply_async\u001b[0m\u001b[1;33m(\u001b[0m\u001b[0mself\u001b[0m\u001b[1;33m,\u001b[0m \u001b[0mfunc\u001b[0m\u001b[1;33m,\u001b[0m \u001b[0mcallback\u001b[0m\u001b[1;33m=\u001b[0m\u001b[1;32mNone\u001b[0m\u001b[1;33m)\u001b[0m\u001b[1;33m:\u001b[0m\u001b[1;33m\u001b[0m\u001b[0m\n\u001b[0;32m    181\u001b[0m         \u001b[1;34m\"\"\"Schedule a func to be run\"\"\"\u001b[0m\u001b[1;33m\u001b[0m\u001b[0m\n\u001b[1;32m--> 182\u001b[1;33m         \u001b[0mresult\u001b[0m \u001b[1;33m=\u001b[0m \u001b[0mImmediateResult\u001b[0m\u001b[1;33m(\u001b[0m\u001b[0mfunc\u001b[0m\u001b[1;33m)\u001b[0m\u001b[1;33m\u001b[0m\u001b[0m\n\u001b[0m\u001b[0;32m    183\u001b[0m         \u001b[1;32mif\u001b[0m \u001b[0mcallback\u001b[0m\u001b[1;33m:\u001b[0m\u001b[1;33m\u001b[0m\u001b[0m\n\u001b[0;32m    184\u001b[0m             \u001b[0mcallback\u001b[0m\u001b[1;33m(\u001b[0m\u001b[0mresult\u001b[0m\u001b[1;33m)\u001b[0m\u001b[1;33m\u001b[0m\u001b[0m\n",
      "\u001b[1;32mc:\\users\\srikuchaitu\\anaconda3\\lib\\site-packages\\sklearn\\externals\\joblib\\_parallel_backends.py\u001b[0m in \u001b[0;36m__init__\u001b[1;34m(self, batch)\u001b[0m\n\u001b[0;32m    547\u001b[0m         \u001b[1;31m# Don't delay the application, to avoid keeping the input\u001b[0m\u001b[1;33m\u001b[0m\u001b[1;33m\u001b[0m\u001b[0m\n\u001b[0;32m    548\u001b[0m         \u001b[1;31m# arguments in memory\u001b[0m\u001b[1;33m\u001b[0m\u001b[1;33m\u001b[0m\u001b[0m\n\u001b[1;32m--> 549\u001b[1;33m         \u001b[0mself\u001b[0m\u001b[1;33m.\u001b[0m\u001b[0mresults\u001b[0m \u001b[1;33m=\u001b[0m \u001b[0mbatch\u001b[0m\u001b[1;33m(\u001b[0m\u001b[1;33m)\u001b[0m\u001b[1;33m\u001b[0m\u001b[0m\n\u001b[0m\u001b[0;32m    550\u001b[0m \u001b[1;33m\u001b[0m\u001b[0m\n\u001b[0;32m    551\u001b[0m     \u001b[1;32mdef\u001b[0m \u001b[0mget\u001b[0m\u001b[1;33m(\u001b[0m\u001b[0mself\u001b[0m\u001b[1;33m)\u001b[0m\u001b[1;33m:\u001b[0m\u001b[1;33m\u001b[0m\u001b[0m\n",
      "\u001b[1;32mc:\\users\\srikuchaitu\\anaconda3\\lib\\site-packages\\sklearn\\externals\\joblib\\parallel.py\u001b[0m in \u001b[0;36m__call__\u001b[1;34m(self)\u001b[0m\n\u001b[0;32m    223\u001b[0m         \u001b[1;32mwith\u001b[0m \u001b[0mparallel_backend\u001b[0m\u001b[1;33m(\u001b[0m\u001b[0mself\u001b[0m\u001b[1;33m.\u001b[0m\u001b[0m_backend\u001b[0m\u001b[1;33m,\u001b[0m \u001b[0mn_jobs\u001b[0m\u001b[1;33m=\u001b[0m\u001b[0mself\u001b[0m\u001b[1;33m.\u001b[0m\u001b[0m_n_jobs\u001b[0m\u001b[1;33m)\u001b[0m\u001b[1;33m:\u001b[0m\u001b[1;33m\u001b[0m\u001b[0m\n\u001b[0;32m    224\u001b[0m             return [func(*args, **kwargs)\n\u001b[1;32m--> 225\u001b[1;33m                     for func, args, kwargs in self.items]\n\u001b[0m\u001b[0;32m    226\u001b[0m \u001b[1;33m\u001b[0m\u001b[0m\n\u001b[0;32m    227\u001b[0m     \u001b[1;32mdef\u001b[0m \u001b[0m__len__\u001b[0m\u001b[1;33m(\u001b[0m\u001b[0mself\u001b[0m\u001b[1;33m)\u001b[0m\u001b[1;33m:\u001b[0m\u001b[1;33m\u001b[0m\u001b[0m\n",
      "\u001b[1;32mc:\\users\\srikuchaitu\\anaconda3\\lib\\site-packages\\sklearn\\externals\\joblib\\parallel.py\u001b[0m in \u001b[0;36m<listcomp>\u001b[1;34m(.0)\u001b[0m\n\u001b[0;32m    223\u001b[0m         \u001b[1;32mwith\u001b[0m \u001b[0mparallel_backend\u001b[0m\u001b[1;33m(\u001b[0m\u001b[0mself\u001b[0m\u001b[1;33m.\u001b[0m\u001b[0m_backend\u001b[0m\u001b[1;33m,\u001b[0m \u001b[0mn_jobs\u001b[0m\u001b[1;33m=\u001b[0m\u001b[0mself\u001b[0m\u001b[1;33m.\u001b[0m\u001b[0m_n_jobs\u001b[0m\u001b[1;33m)\u001b[0m\u001b[1;33m:\u001b[0m\u001b[1;33m\u001b[0m\u001b[0m\n\u001b[0;32m    224\u001b[0m             return [func(*args, **kwargs)\n\u001b[1;32m--> 225\u001b[1;33m                     for func, args, kwargs in self.items]\n\u001b[0m\u001b[0;32m    226\u001b[0m \u001b[1;33m\u001b[0m\u001b[0m\n\u001b[0;32m    227\u001b[0m     \u001b[1;32mdef\u001b[0m \u001b[0m__len__\u001b[0m\u001b[1;33m(\u001b[0m\u001b[0mself\u001b[0m\u001b[1;33m)\u001b[0m\u001b[1;33m:\u001b[0m\u001b[1;33m\u001b[0m\u001b[0m\n",
      "\u001b[1;32mc:\\users\\srikuchaitu\\anaconda3\\lib\\site-packages\\sklearn\\ensemble\\forest.py\u001b[0m in \u001b[0;36m_accumulate_prediction\u001b[1;34m(predict, X, out, lock)\u001b[0m\n\u001b[0;32m    387\u001b[0m     \u001b[0mcomplains\u001b[0m \u001b[0mthat\u001b[0m \u001b[0mit\u001b[0m \u001b[0mcannot\u001b[0m \u001b[0mpickle\u001b[0m \u001b[0mit\u001b[0m \u001b[0mwhen\u001b[0m \u001b[0mplaced\u001b[0m \u001b[0mthere\u001b[0m\u001b[1;33m.\u001b[0m\u001b[1;33m\u001b[0m\u001b[0m\n\u001b[0;32m    388\u001b[0m     \"\"\"\n\u001b[1;32m--> 389\u001b[1;33m     \u001b[0mprediction\u001b[0m \u001b[1;33m=\u001b[0m \u001b[0mpredict\u001b[0m\u001b[1;33m(\u001b[0m\u001b[0mX\u001b[0m\u001b[1;33m,\u001b[0m \u001b[0mcheck_input\u001b[0m\u001b[1;33m=\u001b[0m\u001b[1;32mFalse\u001b[0m\u001b[1;33m)\u001b[0m\u001b[1;33m\u001b[0m\u001b[0m\n\u001b[0m\u001b[0;32m    390\u001b[0m     \u001b[1;32mwith\u001b[0m \u001b[0mlock\u001b[0m\u001b[1;33m:\u001b[0m\u001b[1;33m\u001b[0m\u001b[0m\n\u001b[0;32m    391\u001b[0m         \u001b[1;32mif\u001b[0m \u001b[0mlen\u001b[0m\u001b[1;33m(\u001b[0m\u001b[0mout\u001b[0m\u001b[1;33m)\u001b[0m \u001b[1;33m==\u001b[0m \u001b[1;36m1\u001b[0m\u001b[1;33m:\u001b[0m\u001b[1;33m\u001b[0m\u001b[0m\n",
      "\u001b[1;32mc:\\users\\srikuchaitu\\anaconda3\\lib\\site-packages\\sklearn\\tree\\tree.py\u001b[0m in \u001b[0;36mpredict_proba\u001b[1;34m(self, X, check_input)\u001b[0m\n\u001b[0;32m    831\u001b[0m         \u001b[0mcheck_is_fitted\u001b[0m\u001b[1;33m(\u001b[0m\u001b[0mself\u001b[0m\u001b[1;33m,\u001b[0m \u001b[1;34m'tree_'\u001b[0m\u001b[1;33m)\u001b[0m\u001b[1;33m\u001b[0m\u001b[0m\n\u001b[0;32m    832\u001b[0m         \u001b[0mX\u001b[0m \u001b[1;33m=\u001b[0m \u001b[0mself\u001b[0m\u001b[1;33m.\u001b[0m\u001b[0m_validate_X_predict\u001b[0m\u001b[1;33m(\u001b[0m\u001b[0mX\u001b[0m\u001b[1;33m,\u001b[0m \u001b[0mcheck_input\u001b[0m\u001b[1;33m)\u001b[0m\u001b[1;33m\u001b[0m\u001b[0m\n\u001b[1;32m--> 833\u001b[1;33m         \u001b[0mproba\u001b[0m \u001b[1;33m=\u001b[0m \u001b[0mself\u001b[0m\u001b[1;33m.\u001b[0m\u001b[0mtree_\u001b[0m\u001b[1;33m.\u001b[0m\u001b[0mpredict\u001b[0m\u001b[1;33m(\u001b[0m\u001b[0mX\u001b[0m\u001b[1;33m)\u001b[0m\u001b[1;33m\u001b[0m\u001b[0m\n\u001b[0m\u001b[0;32m    834\u001b[0m \u001b[1;33m\u001b[0m\u001b[0m\n\u001b[0;32m    835\u001b[0m         \u001b[1;32mif\u001b[0m \u001b[0mself\u001b[0m\u001b[1;33m.\u001b[0m\u001b[0mn_outputs_\u001b[0m \u001b[1;33m==\u001b[0m \u001b[1;36m1\u001b[0m\u001b[1;33m:\u001b[0m\u001b[1;33m\u001b[0m\u001b[0m\n",
      "\u001b[1;31mKeyboardInterrupt\u001b[0m: "
     ]
    }
   ],
   "source": [
    "pdp_wrkc = pdp_plot.PartialDependence(df_test,model,labels_name,label_focus)"
   ]
  },
  {
   "cell_type": "code",
   "execution_count": 217,
   "metadata": {},
   "outputs": [
    {
     "data": {
      "text/plain": [
       "0    1842396\n",
       "1     864206\n",
       "Name: Attorney/Representative, dtype: int64"
      ]
     },
     "execution_count": 217,
     "metadata": {},
     "output_type": "execute_result"
    }
   ],
   "source": [
    "y_test.value_counts()"
   ]
  },
  {
   "cell_type": "code",
   "execution_count": 181,
   "metadata": {},
   "outputs": [],
   "source": [
    "injury = pd.DataFrame(X_test['injury age'])"
   ]
  },
  {
   "cell_type": "code",
   "execution_count": 164,
   "metadata": {},
   "outputs": [],
   "source": [
    "predict = rf_random.predict_proba(X_test)[:,:1]"
   ]
  },
  {
   "cell_type": "code",
   "execution_count": 188,
   "metadata": {},
   "outputs": [],
   "source": [
    "pred_df = pd.concat([injury, pd.DataFrame(predict)], axis = 1)"
   ]
  },
  {
   "cell_type": "code",
   "execution_count": 212,
   "metadata": {},
   "outputs": [
    {
     "data": {
      "image/png": "[encoded data removed]",
      "text/plain": [
       "<matplotlib.figure.Figure at 0x277fed23588>"
      ]
     },
     "metadata": {},
     "output_type": "display_data"
    }
   ],
   "source": [
    "from sklearn.ensemble.partial_dependence import partial_dependence, plot_partial_dependence\n",
    "\n",
    "my_model = GradientBoostingClassifier()\n",
    "# fit the model as usual\n",
    "my_model.fit(X_train, y_train)\n",
    "\n",
    "my_plots = plot_partial_dependence(my_model,       \n",
    "                                   features = [0,1], # column numbers of plots we want to show\n",
    "                                   X=X_train,            # raw predictors data.\n",
    "                                   feature_names=['Claim Injury Type','WCIO Part Of Body Code'], # labels on graphs\n",
    "                                   grid_resolution=10) "
   ]
  },
  {
   "cell_type": "code",
   "execution_count": 218,
   "metadata": {},
   "outputs": [],
   "source": [
    "from pdpbox import pdp, get_dataset, info_plots"
   ]
  },
  {
   "cell_type": "code",
   "execution_count": 247,
   "metadata": {},
   "outputs": [
    {
     "data": {
      "image/png": "[encoded data removed]",
      "text/plain": [
       "<matplotlib.figure.Figure at 0x27825fbf3c8>"
      ]
     },
     "metadata": {},
     "output_type": "display_data"
    }
   ],
   "source": [
    "fig, axes, summary_df = info_plots.target_plot(\n",
    "    df=data_training, feature='Claim Injury Type', feature_name='Hiring a rep', target='Attorney/Representative'\n",
    ")\n",
    "_= axes['bar_ax'].set_xticklabels(['Death-cancelled', 'MED ONLY','NON-COMP-PPD NSL','PPD SCH LOSS-PTD','TEMPORARY-UNKNOWN'])"
   ]
  },
  {
   "cell_type": "code",
   "execution_count": 242,
   "metadata": {},
   "outputs": [
    {
     "data": {
      "text/html": [
       "<div>\n",
       "<style scoped>\n",
       "    .dataframe tbody tr th:only-of-type {\n",
       "        vertical-align: middle;\n",
       "    }\n",
       "\n",
       "    .dataframe tbody tr th {\n",
       "        vertical-align: top;\n",
       "    }\n",
       "\n",
       "    .dataframe thead th {\n",
       "        text-align: right;\n",
       "    }\n",
       "</style>\n",
       "<table border=\"1\" class=\"dataframe\">\n",
       "  <thead>\n",
       "    <tr style=\"text-align: right;\">\n",
       "      <th></th>\n",
       "      <th>x</th>\n",
       "      <th>display_column</th>\n",
       "      <th>value_lower</th>\n",
       "      <th>value_upper</th>\n",
       "      <th>count</th>\n",
       "      <th>Attorney/Representative</th>\n",
       "    </tr>\n",
       "  </thead>\n",
       "  <tbody>\n",
       "    <tr>\n",
       "      <th>0</th>\n",
       "      <td>0</td>\n",
       "      <td>[0, 2)</td>\n",
       "      <td>0.0</td>\n",
       "      <td>2.0</td>\n",
       "      <td>27183</td>\n",
       "      <td>0.528198</td>\n",
       "    </tr>\n",
       "    <tr>\n",
       "      <th>1</th>\n",
       "      <td>1</td>\n",
       "      <td>[2, 3)</td>\n",
       "      <td>2.0</td>\n",
       "      <td>3.0</td>\n",
       "      <td>561668</td>\n",
       "      <td>0.205670</td>\n",
       "    </tr>\n",
       "    <tr>\n",
       "      <th>2</th>\n",
       "      <td>2</td>\n",
       "      <td>[3, 5)</td>\n",
       "      <td>3.0</td>\n",
       "      <td>5.0</td>\n",
       "      <td>1210523</td>\n",
       "      <td>0.150148</td>\n",
       "    </tr>\n",
       "    <tr>\n",
       "      <th>3</th>\n",
       "      <td>3</td>\n",
       "      <td>[5, 7)</td>\n",
       "      <td>5.0</td>\n",
       "      <td>7.0</td>\n",
       "      <td>439794</td>\n",
       "      <td>0.839952</td>\n",
       "    </tr>\n",
       "    <tr>\n",
       "      <th>4</th>\n",
       "      <td>4</td>\n",
       "      <td>[7, 8]</td>\n",
       "      <td>7.0</td>\n",
       "      <td>8.0</td>\n",
       "      <td>1144084</td>\n",
       "      <td>0.349464</td>\n",
       "    </tr>\n",
       "  </tbody>\n",
       "</table>\n",
       "</div>"
      ],
      "text/plain": [
       "   x display_column  value_lower  value_upper    count  \\\n",
       "0  0         [0, 2)          0.0          2.0    27183   \n",
       "1  1         [2, 3)          2.0          3.0   561668   \n",
       "2  2         [3, 5)          3.0          5.0  1210523   \n",
       "3  3         [5, 7)          5.0          7.0   439794   \n",
       "4  4         [7, 8]          7.0          8.0  1144084   \n",
       "\n",
       "   Attorney/Representative  \n",
       "0                 0.528198  \n",
       "1                 0.205670  \n",
       "2                 0.150148  \n",
       "3                 0.839952  \n",
       "4                 0.349464  "
      ]
     },
     "execution_count": 242,
     "metadata": {},
     "output_type": "execute_result"
    }
   ],
   "source": [
    "summary_df"
   ]
  },
  {
   "cell_type": "code",
   "execution_count": 244,
   "metadata": {},
   "outputs": [
    {
     "data": {
      "text/plain": [
       "3    1122301\n",
       "7     911497\n",
       "2     561668\n",
       "5     435451\n",
       "8     232587\n",
       "4      88222\n",
       "0      21490\n",
       "1       5693\n",
       "6       4343\n",
       "Name: Claim Injury Type, dtype: int64"
      ]
     },
     "execution_count": 244,
     "metadata": {},
     "output_type": "execute_result"
    }
   ],
   "source": [
    "data_training['Claim Injury Type'].value_counts()"
   ]
  },
  {
   "cell_type": "code",
   "execution_count": 245,
   "metadata": {},
   "outputs": [
    {
     "data": {
      "text/plain": [
       "NON-COMP        1122301\n",
       "TEMPORARY        911497\n",
       "MED ONLY         561668\n",
       "PPD SCH LOSS     435451\n",
       "UNKNOWN          232587\n",
       "PPD NSL           88222\n",
       "CANCELLED         21490\n",
       "DEATH              5693\n",
       "PTD                4343\n",
       "Name: Claim Injury Type, dtype: int64"
      ]
     },
     "execution_count": 245,
     "metadata": {},
     "output_type": "execute_result"
    }
   ],
   "source": [
    "data['Claim Injury Type'].value_counts()"
   ]
  },
  {
   "cell_type": "code",
   "execution_count": 266,
   "metadata": {},
   "outputs": [
    {
     "data": {
      "image/png": "[encoded data removed]",
      "text/plain": [
       "<matplotlib.figure.Figure at 0x27825eadfd0>"
      ]
     },
     "metadata": {},
     "output_type": "display_data"
    }
   ],
   "source": [
    "fig, axes, summary_df = info_plots.actual_plot(\n",
    "    model=rand, X=X_test, feature='Claim Injury Type', feature_name='Hiring a rep', predict_kwds={}\n",
    ")\n",
    "_= axes['bar_ax'].set_xticklabels(['Death-cancelled', 'MED ONLY','NON-COMP-PPD NSL','PPD SCH LOSS-PTD','TEMPORARY-UNKNOWN'])"
   ]
  },
  {
   "cell_type": "code",
   "execution_count": 254,
   "metadata": {},
   "outputs": [
    {
     "data": {
      "text/html": [
       "<div>\n",
       "<style scoped>\n",
       "    .dataframe tbody tr th:only-of-type {\n",
       "        vertical-align: middle;\n",
       "    }\n",
       "\n",
       "    .dataframe tbody tr th {\n",
       "        vertical-align: top;\n",
       "    }\n",
       "\n",
       "    .dataframe thead th {\n",
       "        text-align: right;\n",
       "    }\n",
       "</style>\n",
       "<table border=\"1\" class=\"dataframe\">\n",
       "  <thead>\n",
       "    <tr style=\"text-align: right;\">\n",
       "      <th></th>\n",
       "      <th>x</th>\n",
       "      <th>display_column</th>\n",
       "      <th>value_lower</th>\n",
       "      <th>value_upper</th>\n",
       "      <th>percentile_column</th>\n",
       "      <th>percentile_lower</th>\n",
       "      <th>percentile_upper</th>\n",
       "      <th>count</th>\n",
       "      <th>actual_prediction_q1</th>\n",
       "      <th>actual_prediction_q2</th>\n",
       "      <th>actual_prediction_q3</th>\n",
       "    </tr>\n",
       "  </thead>\n",
       "  <tbody>\n",
       "    <tr>\n",
       "      <th>0</th>\n",
       "      <td>0</td>\n",
       "      <td>[0, 2)</td>\n",
       "      <td>0.0</td>\n",
       "      <td>2.0</td>\n",
       "      <td>[0, 11.11)</td>\n",
       "      <td>0.00</td>\n",
       "      <td>11.11</td>\n",
       "      <td>21837</td>\n",
       "      <td>0.462698</td>\n",
       "      <td>0.593642</td>\n",
       "      <td>0.753644</td>\n",
       "    </tr>\n",
       "    <tr>\n",
       "      <th>1</th>\n",
       "      <td>1</td>\n",
       "      <td>[2, 3)</td>\n",
       "      <td>2.0</td>\n",
       "      <td>3.0</td>\n",
       "      <td>[11.11, 44.44)</td>\n",
       "      <td>11.11</td>\n",
       "      <td>44.44</td>\n",
       "      <td>448915</td>\n",
       "      <td>0.160804</td>\n",
       "      <td>0.292142</td>\n",
       "      <td>0.413133</td>\n",
       "    </tr>\n",
       "    <tr>\n",
       "      <th>2</th>\n",
       "      <td>2</td>\n",
       "      <td>[3, 5)</td>\n",
       "      <td>3.0</td>\n",
       "      <td>5.0</td>\n",
       "      <td>[44.44, 55.56)</td>\n",
       "      <td>44.44</td>\n",
       "      <td>55.56</td>\n",
       "      <td>968583</td>\n",
       "      <td>0.000000</td>\n",
       "      <td>0.000000</td>\n",
       "      <td>0.299696</td>\n",
       "    </tr>\n",
       "    <tr>\n",
       "      <th>3</th>\n",
       "      <td>3</td>\n",
       "      <td>[5, 7)</td>\n",
       "      <td>5.0</td>\n",
       "      <td>7.0</td>\n",
       "      <td>[55.56, 88.89)</td>\n",
       "      <td>55.56</td>\n",
       "      <td>88.89</td>\n",
       "      <td>351791</td>\n",
       "      <td>0.825853</td>\n",
       "      <td>0.949615</td>\n",
       "      <td>0.986376</td>\n",
       "    </tr>\n",
       "    <tr>\n",
       "      <th>4</th>\n",
       "      <td>4</td>\n",
       "      <td>[7, 8]</td>\n",
       "      <td>7.0</td>\n",
       "      <td>8.0</td>\n",
       "      <td>[88.89, 100]</td>\n",
       "      <td>88.89</td>\n",
       "      <td>100.00</td>\n",
       "      <td>915476</td>\n",
       "      <td>0.240685</td>\n",
       "      <td>0.488311</td>\n",
       "      <td>0.657337</td>\n",
       "    </tr>\n",
       "  </tbody>\n",
       "</table>\n",
       "</div>"
      ],
      "text/plain": [
       "   x display_column  value_lower  value_upper percentile_column  \\\n",
       "0  0         [0, 2)          0.0          2.0        [0, 11.11)   \n",
       "1  1         [2, 3)          2.0          3.0    [11.11, 44.44)   \n",
       "2  2         [3, 5)          3.0          5.0    [44.44, 55.56)   \n",
       "3  3         [5, 7)          5.0          7.0    [55.56, 88.89)   \n",
       "4  4         [7, 8]          7.0          8.0      [88.89, 100]   \n",
       "\n",
       "   percentile_lower  percentile_upper   count  actual_prediction_q1  \\\n",
       "0              0.00             11.11   21837              0.462698   \n",
       "1             11.11             44.44  448915              0.160804   \n",
       "2             44.44             55.56  968583              0.000000   \n",
       "3             55.56             88.89  351791              0.825853   \n",
       "4             88.89            100.00  915476              0.240685   \n",
       "\n",
       "   actual_prediction_q2  actual_prediction_q3  \n",
       "0              0.593642              0.753644  \n",
       "1              0.292142              0.413133  \n",
       "2              0.000000              0.299696  \n",
       "3              0.949615              0.986376  \n",
       "4              0.488311              0.657337  "
      ]
     },
     "execution_count": 254,
     "metadata": {},
     "output_type": "execute_result"
    }
   ],
   "source": [
    "summary_df"
   ]
  },
  {
   "cell_type": "code",
   "execution_count": 267,
   "metadata": {},
   "outputs": [],
   "source": [
    "pdp_fare = pdp.pdp_isolate(\n",
    "    model=rand, dataset=data_training, model_features=X_train.columns, feature='Claim Injury Type'\n",
    ")\n",
    "_= axes['bar_ax'].set_xticklabels(['Death-cancelled', 'MED ONLY','NON-COMP-PPD NSL','PPD SCH LOSS-PTD','TEMPORARY-UNKNOWN'])"
   ]
  },
  {
   "cell_type": "code",
   "execution_count": 274,
   "metadata": {},
   "outputs": [
    {
     "data": {
      "image/png": "[encoded data removed]",
      "text/plain": [
       "<matplotlib.figure.Figure at 0x27800459d68>"
      ]
     },
     "metadata": {},
     "output_type": "display_data"
    }
   ],
   "source": [
    "fig, axes = pdp.pdp_plot(pdp_fare, 'Claim Injury Type')"
   ]
  },
  {
   "cell_type": "code",
   "execution_count": 278,
   "metadata": {},
   "outputs": [],
   "source": [
    "pdp_body_part = pdp.pdp_isolate(\n",
    "    model=rand, dataset=data_training, model_features=X_train.columns, feature='WCIO Part Of Body Code'\n",
    ")"
   ]
  },
  {
   "cell_type": "code",
   "execution_count": 279,
   "metadata": {},
   "outputs": [
    {
     "data": {
      "image/png": "[encoded data removed]",
      "text/plain": [
       "<matplotlib.figure.Figure at 0x278266b5cf8>"
      ]
     },
     "metadata": {},
     "output_type": "display_data"
    }
   ],
   "source": [
    "fig, axes = pdp.pdp_plot(pdp_body_part, 'WCIO Part Of Body Code')"
   ]
  },
  {
   "cell_type": "code",
   "execution_count": 277,
   "metadata": {},
   "outputs": [
    {
     "data": {
      "text/plain": [
       "<bound method IndexOpsMixin.nunique of 0          42\n",
       "1          20\n",
       "2          42\n",
       "3          42\n",
       "4          42\n",
       "5          90\n",
       "6          42\n",
       "7          65\n",
       "8          90\n",
       "9          42\n",
       "10         90\n",
       "11         90\n",
       "12          0\n",
       "13         20\n",
       "14         33\n",
       "15         90\n",
       "16         42\n",
       "17         18\n",
       "18         33\n",
       "19         90\n",
       "20         20\n",
       "21         42\n",
       "22         42\n",
       "23         90\n",
       "24         19\n",
       "25         38\n",
       "26         42\n",
       "27         42\n",
       "28         41\n",
       "29         90\n",
       "           ..\n",
       "3407580    30\n",
       "3407581    42\n",
       "3407582    13\n",
       "3407583    61\n",
       "3407584    31\n",
       "3407585    66\n",
       "3407586    53\n",
       "3407587    36\n",
       "3407588    90\n",
       "3407589    61\n",
       "3407590    30\n",
       "3407591    14\n",
       "3407592    42\n",
       "3407593    32\n",
       "3407594    42\n",
       "3407595    14\n",
       "3407596    37\n",
       "3407597    55\n",
       "3407598     0\n",
       "3407599     0\n",
       "3407600    19\n",
       "3407601    61\n",
       "3407602     0\n",
       "3407603    42\n",
       "3407604    19\n",
       "3407605    22\n",
       "3407606     0\n",
       "3407607    44\n",
       "3407608    55\n",
       "3407609    34\n",
       "Name: WCIO Part Of Body Code, Length: 3383252, dtype: int32>"
      ]
     },
     "execution_count": 277,
     "metadata": {},
     "output_type": "execute_result"
    }
   ],
   "source": [
    "(data_training['WCIO Part Of Body Code'].nunique)"
   ]
  },
  {
   "cell_type": "code",
   "execution_count": 264,
   "metadata": {},
   "outputs": [
    {
     "data": {
      "image/png": "[encoded data removed]",
      "text/plain": [
       "<matplotlib.figure.Figure at 0x2780043e358>"
      ]
     },
     "metadata": {},
     "output_type": "display_data"
    }
   ],
   "source": [
    "fig, axes, summary_df = info_plots.target_plot(\n",
    "    df=data_training, feature='WCIO Part Of Body Code', feature_name='Hiring a rep', target='Attorney/Representative'\n",
    ")"
   ]
  },
  {
   "cell_type": "code",
   "execution_count": 212,
   "metadata": {},
   "outputs": [
    {
     "name": "stdout",
     "output_type": "stream",
     "text": [
      "F1 for logistic regression :0.22453529990982116\n",
      "Precison logistic regression :0.5085202928238568\n",
      "Recall for logistic regression :0.1440757033602904\n"
     ]
    }
   ],
   "source": [
    "logistic = linear_model.LogisticRegression()\n",
    "logistic.fit(X_train, y_train)\n",
    "y_pred = logistic.predict(X_test)\n",
    "print(\"F1 for logistic regression :\" + str(f1_score(y_test, y_pred)))\n",
    "print(\"Precison logistic regression :\" + str(precision_score(y_test, y_pred)))\n",
    "print(\"Recall for logistic regression :\" + str(recall_score(y_test, y_pred))  )"
   ]
  },
  {
   "cell_type": "markdown",
   "metadata": {},
   "source": [
    "### XG Boost "
   ]
  },
  {
   "cell_type": "code",
   "execution_count": 213,
   "metadata": {},
   "outputs": [],
   "source": [
    "import xgboost as xgb"
   ]
  },
  {
   "cell_type": "code",
   "execution_count": 115,
   "metadata": {},
   "outputs": [],
   "source": [
    "gbm = xgb.XGBClassifier(max_depth=3, n_estimators=300, learning_rate=0.05).fit(X_train, y_train)\n",
    "predictions = gbm.predict(X_test)"
   ]
  },
  {
   "cell_type": "code",
   "execution_count": null,
   "metadata": {},
   "outputs": [],
   "source": [
    "print(\"F1 for logistic regression :\" + str(f1_score(y_test, y_pred)))\n",
    "print(\"Precison logistic regression :\" + str(precision_score(y_test, y_pred)))\n",
    "print(\"Recall for logistic regression :\" + str(recall_score(y_test, y_pred))  )"
   ]
  },
  {
   "cell_type": "markdown",
   "metadata": {},
   "source": [
    "## Data Insights\n"
   ]
  },
  {
   "cell_type": "code",
   "execution_count": 216,
   "metadata": {},
   "outputs": [
    {
     "data": {
      "text/plain": [
       "<matplotlib.axes._subplots.AxesSubplot at 0x1b033ceee10>"
      ]
     },
     "execution_count": 216,
     "metadata": {},
     "output_type": "execute_result"
    },
    {
     "data": {
      "image/png": "[encoded data removed]",
      "text/plain": [
       "<matplotlib.figure.Figure at 0x1b0004e24e0>"
      ]
     },
     "metadata": {},
     "output_type": "display_data"
    }
   ],
   "source": [
    "(data[data['Accident'] == 'N']['Attorney/Representative']).value_counts().plot(kind = 'bar')"
   ]
  },
  {
   "cell_type": "code",
   "execution_count": 212,
   "metadata": {},
   "outputs": [],
   "source": [
    "attr_cnt = (data[data['Accident'] == 'N']['Attorney/Representative']).value_counts().tolist()"
   ]
  },
  {
   "cell_type": "code",
   "execution_count": 223,
   "metadata": {},
   "outputs": [
    {
     "data": {
      "text/plain": [
       "N    908566\n",
       "Y    389982\n",
       "Name: Attorney/Representative, dtype: int64"
      ]
     },
     "execution_count": 223,
     "metadata": {},
     "output_type": "execute_result"
    }
   ],
   "source": [
    "(data[data['Gender'] == 'F']['Attorney/Representative']).value_counts()"
   ]
  },
  {
   "cell_type": "code",
   "execution_count": 220,
   "metadata": {},
   "outputs": [
    {
     "data": {
      "text/plain": [
       "M    2043434\n",
       "F    1298548\n",
       "U      41270\n",
       "Name: Gender, dtype: int64"
      ]
     },
     "execution_count": 220,
     "metadata": {},
     "output_type": "execute_result"
    }
   ],
   "source": [
    "data['Gender'].value_counts()"
   ]
  },
  {
   "cell_type": "code",
   "execution_count": null,
   "metadata": {},
   "outputs": [],
   "source": []
  }
 ],
 "metadata": {
  "kernelspec": {
   "display_name": "Python 3",
   "language": "python",
   "name": "python3"
  },
  "language_info": {
   "codemirror_mode": {
    "name": "ipython",
    "version": 3
   },
   "file_extension": ".py",
   "mimetype": "text/x-python",
   "name": "python",
   "nbconvert_exporter": "python",
   "pygments_lexer": "ipython3",
   "version": "3.6.4"
  }
 },
 "nbformat": 4,
 "nbformat_minor": 2
}
